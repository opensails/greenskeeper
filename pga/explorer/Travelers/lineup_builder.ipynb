{
 "cells": [
  {
   "cell_type": "code",
   "execution_count": 1,
   "metadata": {},
   "outputs": [],
   "source": [
    "import pandas as pd\n",
    "import numpy as np\n",
    "from matplotlib import pyplot as plt\n",
    "from scipy.optimize import minimize\n",
    "import pulp\n",
    "from pydfs_lineup_optimizer import get_optimizer, Site, Sport"
   ]
  },
  {
   "cell_type": "code",
   "execution_count": 3,
   "metadata": {
    "tags": []
   },
   "outputs": [
    {
     "output_type": "stream",
     "name": "stdout",
     "text": "1. G     Brian Stuard                  31.106  6100.0$   \n 2. G     Sungjae Im                    31.426  8600.0$   \n 3. G     Gary Woodland                 31.603  8300.0$   \n 4. G     Jon Rahm                      31.451  10200.0$  \n 5. G     Kevin Na                      30.975  7100.0$   \n 6. G     Brendon Todd                  34.763  6700.0$   \n\nFantasy Points 191.32\nSalary 47000.00\n\n[Brian Stuard G (Golf), Sungjae Im G (Golf), Gary Woodland G (Golf), Jon Rahm G (Golf), Kevin Na G (Golf), Brendon Todd G (Golf)]\n191.324\n47000.0\n"
    }
   ],
   "source": [
    "optimizer = get_optimizer(Site.DRAFTKINGS, Sport.GOLF)\n",
    "optimizer.load_players_from_csv(\"DKSalaries_Travelers.csv\")\n",
    "for lineup in optimizer.optimize(n=1):\n",
    "    print(lineup)\n",
    "    print(lineup.players) # list of players\n",
    "    print(lineup.fantasy_points_projection)\n",
    "    print(lineup.salary_costs)"
   ]
  },
  {
   "cell_type": "code",
   "execution_count": 3,
   "metadata": {
    "tags": []
   },
   "outputs": [
    {
     "output_type": "stream",
     "name": "stdout",
     "text": "1. G     Patrick Reed                  0.798   8700.0$   \n 2. G     Ian Poulter                   0.517   7800.0$   \n 3. G     Jon Rahm                      0.723   10200.0$  \n 4. G     Patrick Cantlay               0.617   9800.0$   \n 5. G     Kevin Na                      0.46    7100.0$   \n 6. G     Tom Hoge                      0.381   6400.0$   \n\nFantasy Points 3.50\nSalary 50000.00\n\n[Patrick Reed G (Golf), Ian Poulter G (Golf), Jon Rahm G (Golf), Patrick Cantlay G (Golf), Kevin Na G (Golf), Tom Hoge G (Golf)]\n3.496\n50000.0\n"
    }
   ],
   "source": [
    "optimizer1 = get_optimizer(Site.DRAFTKINGS, Sport.GOLF)\n",
    "optimizer1.load_players_from_csv(\"DKSalaries_Travelers_SG.csv\")\n",
    "for lineup in optimizer1.optimize(n=1):\n",
    "    print(lineup)\n",
    "    print(lineup.players) # list of players\n",
    "    print(lineup.fantasy_points_projection)\n",
    "    print(lineup.salary_costs)"
   ]
  },
  {
   "cell_type": "code",
   "execution_count": 4,
   "metadata": {
    "tags": []
   },
   "outputs": [
    {
     "output_type": "stream",
     "name": "stdout",
     "text": "1. G     Patrick Reed                  0.566   8700.0$   \n 2. G     Tony Finau                    0.478   8200.0$   \n 3. G     Justin Thomas                 0.679   10800.0$  \n 4. G     Xander Schauffele             0.527   9600.0$   \n 5. G     Tom Hoge                      0.32    6400.0$   \n 6. G     Cameron Tringale              0.309   6300.0$   \n\nFantasy Points 2.88\nSalary 50000.00\n\n[Patrick Reed G (Golf), Tony Finau G (Golf), Justin Thomas G (Golf), Xander Schauffele G (Golf), Tom Hoge G (Golf), Cameron Tringale G (Golf)]\n2.878\n50000.0\n"
    }
   ],
   "source": [
    "optimizer2 = get_optimizer(Site.DRAFTKINGS, Sport.GOLF)\n",
    "optimizer2.load_players_from_csv(\"DKSalaries_Travelers_SG_1.csv\")\n",
    "for lineup in optimizer2.optimize(n=1):\n",
    "    print(lineup)\n",
    "    print(lineup.players) # list of players\n",
    "    print(lineup.fantasy_points_projection)\n",
    "    print(lineup.salary_costs)"
   ]
  },
  {
   "cell_type": "code",
   "execution_count": 5,
   "metadata": {
    "tags": []
   },
   "outputs": [
    {
     "output_type": "stream",
     "name": "stdout",
     "text": "1. G     Patrick Reed                  0.661   8700.0$   \n 2. G     Tony Finau                    0.635   8200.0$   \n 3. G     Patrick Cantlay               0.723   9800.0$   \n 4. G     Harold Varner                 0.462   7100.0$   \n 5. G     Xander Schauffele             0.681   9600.0$   \n 6. G     Cameron Tringale              0.369   6300.0$   \n\nFantasy Points 3.53\nSalary 49700.00\n\n[Patrick Reed G (Golf), Tony Finau G (Golf), Patrick Cantlay G (Golf), Harold Varner G (Golf), Xander Schauffele G (Golf), Cameron Tringale G (Golf)]\n3.53\n49700.0\n"
    }
   ],
   "source": [
    "optimizer3 = get_optimizer(Site.DRAFTKINGS, Sport.GOLF)\n",
    "optimizer3.load_players_from_csv(\"DKSalaries_Travelers_SG_2.csv\")\n",
    "for lineup in optimizer3.optimize(n=1):\n",
    "    print(lineup)\n",
    "    print(lineup.players) # list of players\n",
    "    print(lineup.fantasy_points_projection)\n",
    "    print(lineup.salary_costs)"
   ]
  },
  {
   "cell_type": "code",
   "execution_count": 6,
   "metadata": {
    "tags": []
   },
   "outputs": [
    {
     "output_type": "stream",
     "name": "stdout",
     "text": "1. G     Denny McCarthy                2.018   6200.0$   \n 2. G     Gary Woodland                 2.614   8300.0$   \n 3. G     Justin Thomas                 2.942   10800.0$  \n 4. G     Scottie Scheffler             2.087   7600.0$   \n 5. G     Brandt Snedeker               2.047   7200.0$   \n 6. G     Patrick Cantlay               2.508   9800.0$   \n\nFantasy Points 14.22\nSalary 49900.00\n\n[Denny McCarthy G (Golf), Gary Woodland G (Golf), Justin Thomas G (Golf), Scottie Scheffler G (Golf), Brandt Snedeker G (Golf), Patrick Cantlay G (Golf)]\n14.216\n49900.0\n"
    }
   ],
   "source": [
    "optimizer4 = get_optimizer(Site.DRAFTKINGS, Sport.GOLF)\n",
    "optimizer4.load_players_from_csv(\"DKSalaries_Travelers_RTP.csv\")\n",
    "for lineup in optimizer4.optimize(n=1):\n",
    "    print(lineup)\n",
    "    print(lineup.players) # list of players\n",
    "    print(lineup.fantasy_points_projection)\n",
    "    print(lineup.salary_costs)"
   ]
  },
  {
   "cell_type": "code",
   "execution_count": 8,
   "metadata": {
    "tags": []
   },
   "outputs": [
    {
     "output_type": "stream",
     "name": "stdout",
     "text": "1. G     Rory McIlroy                  96.19   11200.0$  \n 2. G     Cameron Tringale              67.79   6300.0$   \n 3. G     Gary Woodland                 81.96   8300.0$   \n 4. G     Scottie Scheffler             79.39   7600.0$   \n 5. G     Patrick Cantlay               86.79   9800.0$   \n 6. G     Carlos Ortiz                  70.87   6800.0$   \n\nFantasy Points 482.99\nSalary 50000.00\n\n[Rory McIlroy G (Golf), Cameron Tringale G (Golf), Gary Woodland G (Golf), Scottie Scheffler G (Golf), Patrick Cantlay G (Golf), Carlos Ortiz G (Golf)]\n482.99\n50000.0\n"
    }
   ],
   "source": [
    "optimizer5 = get_optimizer(Site.DRAFTKINGS, Sport.GOLF)\n",
    "optimizer5.load_players_from_csv(\"DKSalaries_Trav.csv\")\n",
    "for lineup in optimizer5.optimize(n=1):\n",
    "    print(lineup)\n",
    "    print(lineup.players) # list of players\n",
    "    print(lineup.fantasy_points_projection)\n",
    "    print(lineup.salary_costs)"
   ]
  },
  {
   "cell_type": "code",
   "execution_count": null,
   "metadata": {},
   "outputs": [],
   "source": []
  }
 ],
 "metadata": {
  "language_info": {
   "codemirror_mode": {
    "name": "ipython",
    "version": 3
   },
   "file_extension": ".py",
   "mimetype": "text/x-python",
   "name": "python",
   "nbconvert_exporter": "python",
   "pygments_lexer": "ipython3",
   "version": "3.7.7-final"
  },
  "orig_nbformat": 2,
  "kernelspec": {
   "name": "python37764bitscrawlconda7160cfcfc2114dd48f1ecc907ae40611",
   "display_name": "Python 3.7.7 64-bit ('scrawl': conda)"
  }
 },
 "nbformat": 4,
 "nbformat_minor": 2
}
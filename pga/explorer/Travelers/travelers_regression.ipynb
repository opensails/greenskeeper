{
 "cells": [
  {
   "cell_type": "code",
   "execution_count": 1,
   "metadata": {},
   "outputs": [],
   "source": [
    "import pandas as pd\n",
    "from sklearn import linear_model\n",
    "import statsmodels.api as sm"
   ]
  },
  {
   "cell_type": "code",
   "execution_count": 2,
   "metadata": {},
   "outputs": [],
   "source": [
    "def run_multi_regression(filename=''):\n",
    "    data = pd.read_csv(filename)\n",
    "    X = data.iloc[:, 2:]\n",
    "    Y = data.iloc[:, 1:2]\n",
    "    regr = linear_model.LinearRegression()\n",
    "    regr.fit(X, Y)\n",
    "    print('Intercept: \\n', regr.intercept_)\n",
    "    print('Coefficients: \\n', regr.coef_)\n",
    "\n",
    "    print('\\n', '_________________')\n",
    "    print('\\n', '_________________')\n",
    "    print('\\n', '_________________')\n",
    "    print('\\n', '_________________')\n",
    "\n",
    "    X = sm.add_constant(X) # adding a constant\n",
    " \n",
    "    model = sm.OLS(Y, X).fit()\n",
    "    predictions = model.predict(X) \n",
    " \n",
    "    print_model = model.summary()\n",
    "    print(print_model)"
   ]
  },
  {
   "cell_type": "code",
   "execution_count": 6,
   "metadata": {
    "tags": []
   },
   "outputs": [
    {
     "output_type": "stream",
     "name": "stdout",
     "text": "Intercept: \n [79.08038479]\nCoefficients: \n [[ -5.13922602  -0.62538817   1.00421973 -14.64235767  -0.12515369\n   -0.10658888   3.09632935   2.84127845]]\n\n _________________\n\n _________________\n\n _________________\n\n _________________\n                             OLS Regression Results                            \n===============================================================================\nDep. Variable:     Scoring Average-AVG   R-squared:                       0.500\nModel:                             OLS   Adj. R-squared:                  0.469\nMethod:                  Least Squares   F-statistic:                     16.13\nDate:                 Thu, 25 Jun 2020   Prob (F-statistic):           2.41e-16\nTime:                         00:16:35   Log-Likelihood:                -116.83\nNo. Observations:                  138   AIC:                             251.7\nDf Residuals:                      129   BIC:                             278.0\nDf Model:                            8                                         \nCovariance Type:             nonrobust                                         \n=================================================================================================\n                                    coef    std err          t      P>|t|      [0.025      0.975]\n-------------------------------------------------------------------------------------------------\nconst                            79.0804      2.416     32.726      0.000      74.299      83.861\nDriving Accuracy Percentage-%    -5.1392      2.615     -1.965      0.052     -10.313       0.034\nRough Tendency-%                 -0.6254      2.973     -0.210      0.834      -6.508       5.257\nHit Fairway Percentage-%          1.0042      3.508      0.286      0.775      -5.936       7.944\nScrambling-%                    -14.6424      2.074     -7.060      0.000     -18.746     -10.539\nScrambling from the Fringe-%     -0.1252      0.758     -0.165      0.869      -1.626       1.375\nSand Save Percentage-%           -0.1066      0.874     -0.122      0.903      -1.836       1.622\nScrambling from the Rough-%       3.0963      1.035      2.991      0.003       1.048       5.144\nOne-Putt Percentage-%             2.8413      2.370      1.199      0.233      -1.849       7.531\n==============================================================================\nOmnibus:                       13.024   Durbin-Watson:                   1.895\nProb(Omnibus):                  0.001   Jarque-Bera (JB):               17.442\nSkew:                           0.542   Prob(JB):                     0.000163\nKurtosis:                       4.363   Cond. No.                         190.\n==============================================================================\n\nWarnings:\n[1] Standard Errors assume that the covariance matrix of the errors is correctly specified.\n"
    }
   ],
   "source": [
    "run_multi_regression(filename='play_percentages.csv')"
   ]
  },
  {
   "cell_type": "code",
   "execution_count": 8,
   "metadata": {
    "tags": []
   },
   "outputs": [
    {
     "output_type": "stream",
     "name": "stdout",
     "text": "Intercept: \n [70.53167232]\nCoefficients: \n [[ 0.31729236 -0.28386177  3.2866916   2.20216184 -1.31615722 -1.84754618]]\n\n _________________\n\n _________________\n\n _________________\n\n _________________\n                             OLS Regression Results                            \n===============================================================================\nDep. Variable:     Scoring Average-AVG   R-squared:                       0.038\nModel:                             OLS   Adj. R-squared:                 -0.006\nMethod:                  Least Squares   F-statistic:                    0.8705\nDate:                 Thu, 25 Jun 2020   Prob (F-statistic):              0.519\nTime:                         00:45:06   Log-Likelihood:                -441.92\nNo. Observations:                  138   AIC:                             897.8\nDf Residuals:                      131   BIC:                             918.3\nDf Model:                            6                                         \nCovariance Type:             nonrobust                                         \n==================================================================================================\n                                     coef    std err          t      P>|t|      [0.025      0.975]\n--------------------------------------------------------------------------------------------------\nconst                             70.5317      0.541    130.293      0.000      69.461      71.603\nSG: Total-AVERAGE                  0.3173      8.955      0.035      0.972     -17.397      18.032\nSG: Putting-AVERAGE               -0.2839      8.986     -0.032      0.975     -18.060      17.492\nSG: Around-the-Green-AVERAGE       3.2867      9.769      0.336      0.737     -16.039      22.612\nSG: Approach the Green-AVERAGE     2.2022     10.133      0.217      0.828     -17.843      22.248\nSG: Off-the-Tee-AVERAGE           -1.3162      9.692     -0.136      0.892     -20.489      17.857\nSG: Tee-to-Green-AVERAGE          -1.8475      4.198     -0.440      0.661     -10.151       6.456\n==============================================================================\nOmnibus:                      288.936   Durbin-Watson:                   2.062\nProb(Omnibus):                  0.000   Jarque-Bera (JB):            86655.973\nSkew:                         -10.816   Prob(JB):                         0.00\nKurtosis:                     123.842   Cond. No.                         49.4\n==============================================================================\n\nWarnings:\n[1] Standard Errors assume that the covariance matrix of the errors is correctly specified.\n"
    }
   ],
   "source": [
    "run_multi_regression(filename='travelers_sg.csv')"
   ]
  },
  {
   "cell_type": "code",
   "execution_count": 5,
   "metadata": {
    "tags": []
   },
   "outputs": [
    {
     "output_type": "stream",
     "name": "stdout",
     "text": "Intercept: \n [-72.54718217]\nCoefficients: \n [[-3.77335542e-03 -2.24899038e-01 -3.31425669e-03 -6.72000699e-03\n   2.71830549e-03 -1.41275171e-03  7.03000354e-04 -1.22457521e-01\n   1.22937342e-02  1.93971457e-01 -1.65876107e-04 -3.36466521e-02\n  -2.31991404e-01 -2.09673974e-01 -2.06824349e-01  1.68422467e-01\n   1.01659664e-01  4.88480558e-03  3.79120422e-03 -2.22311240e-02\n   4.53279077e-03  1.86052198e-01 -1.73785988e-02  7.01310187e-03\n  -2.44672880e-02 -1.21245433e-02 -1.67634393e-02  7.41195669e-03\n   6.54201865e-03 -2.27101207e-03 -9.81116298e-01 -4.57209514e-04\n   9.42352403e-04  2.66646180e-04 -1.83250882e-01 -4.61875132e-04\n  -5.87952127e-02  2.12168112e-03 -5.91117622e-01 -6.92692573e-01\n  -5.19237304e-02  2.14817053e-02  7.32146453e-02  8.34942867e-02\n   3.49410178e-02  6.72324348e-02  4.45914925e-02 -4.65013928e-01\n  -4.09955459e-01 -6.06098215e-02  3.35660381e+00  5.38508805e+00\n   1.08123740e-01  2.44079728e-03  1.08123740e-01  1.22328370e-01\n   1.18628148e+00 -1.03393729e-01 -3.01525014e-02 -6.06098215e-02\n   2.41445884e+00 -3.25446817e-02  3.18671209e-02 -4.58853768e-02\n  -2.24612674e-02 -1.38664934e-03  7.47159154e-04  1.03070014e+00\n   9.99124311e-01 -1.01911116e-01  7.83394914e-01 -8.54772103e-03\n   7.85476177e-02  7.83103175e-01 -1.72099211e-02  1.74608144e-01\n   9.08579515e-03  2.15912130e-03  2.14294426e-01  2.15230923e-01\n   2.20752179e-03 -1.75076746e-03  1.26511139e-01 -1.94925633e-04\n   1.97562569e-03  1.33713190e-01  2.66067638e-04]]\n\n _________________\n\n _________________\n\n _________________\n\n _________________\n                                 OLS Regression Results                                 \n========================================================================================\nDep. Variable:     Scoring Average (Actual)-AVG   R-squared:                       0.998\nModel:                                      OLS   Adj. R-squared:                  0.995\nMethod:                           Least Squares   F-statistic:                     311.9\nDate:                          Thu, 25 Jun 2020   Prob (F-statistic):           1.22e-52\nTime:                                  00:15:26   Log-Likelihood:                 265.62\nNo. Observations:                           138   AIC:                            -359.2\nDf Residuals:                                52   BIC:                            -107.5\nDf Model:                                    85                                         \nCovariance Type:                      nonrobust                                         \n================================================================================================================================\n                                                                   coef    std err          t      P>|t|      [0.025      0.975]\n--------------------------------------------------------------------------------------------------------------------------------\nconst                                                          -72.5472     88.045     -0.824      0.414    -249.222     104.127\nDriving Accuracy Percentage-%                                   -0.0038      0.005     -0.733      0.467      -0.014       0.007\nRough Tendency-%                                                -0.2249      1.940     -0.116      0.908      -4.118       3.668\nHit Fairway Percentage-%                                        -0.0033      0.008     -0.408      0.685      -0.020       0.013\nScrambling-%                                                    -0.0067      0.015     -0.438      0.663      -0.038       0.024\nScrambling from the Fringe-%                                     0.0027      0.002      1.618      0.112      -0.001       0.006\nSand Save Percentage-%                                          -0.0014      0.002     -0.660      0.512      -0.006       0.003\nScrambling from the Rough-%                                      0.0007      0.004      0.169      0.867      -0.008       0.009\nBirdie Average-AVG                                              -0.1225      0.236     -0.518      0.607      -0.597       0.352\nBogey Average-AVERAGE BOGEYS PER ROUND                           0.0123      0.094      0.131      0.896      -0.176       0.201\nBirdie to Bogey Ratio-BIRDIE TO BOGEY RATIO                      0.1940      0.136      1.424      0.160      -0.079       0.467\nSG: Total-AVERAGE                                               -0.0002      0.168     -0.001      0.999      -0.338       0.337\nSG: Putting-AVERAGE                                             -0.0336      0.171     -0.197      0.844      -0.376       0.309\nSG: Around-the-Green-AVERAGE                                    -0.2320      0.189     -1.228      0.225      -0.611       0.147\nSG: Approach the Green-AVERAGE                                  -0.2097      0.198     -1.058      0.295      -0.607       0.188\nSG: Off-the-Tee-AVERAGE                                         -0.2068      0.196     -1.058      0.295      -0.599       0.186\nSG: Tee-to-Green-AVERAGE                                         0.1684      0.108      1.564      0.124      -0.048       0.384\n1-Putts per Round-AVG                                            0.1017      0.163      0.623      0.536      -0.226       0.429\nOne-Putt Percentage - Round 1-%                                  0.0049      0.004      1.112      0.271      -0.004       0.014\nOne-Putt Percentage - Round 3-%                                  0.0038      0.003      1.199      0.236      -0.003       0.010\nOne-Putt Percentage-%                                           -0.0222      0.030     -0.731      0.468      -0.083       0.039\nOne-Putt Percentage - Round 2-%                                  0.0045      0.005      0.954      0.344      -0.005       0.014\n3-Putts per Round-AVG                                            0.1861      0.142      1.309      0.196      -0.099       0.471\nGreens in Regulation Percentage-%                               -0.0174      0.017     -1.013      0.316      -0.052       0.017\nGreens or Fringe in Regulation-%                                 0.0070      0.008      0.846      0.401      -0.010       0.024\nBirdie or Better Conversion Percentage-%                        -0.0245      0.025     -0.961      0.341      -0.076       0.027\nBirdie or Better Percentage - Fairway-%                         -0.0121      0.009     -1.305      0.198      -0.031       0.007\nBirdie or Better Percentage - Rough-%                           -0.0168      0.016     -1.075      0.287      -0.048       0.015\nBirdie or Better Percentage - Right Rough-%                      0.0074      0.008      0.887      0.379      -0.009       0.024\nBirdie or Better Percentage - Left Rough-%                       0.0065      0.008      0.865      0.391      -0.009       0.022\nGIR Percentage from Other than Fairway-%                        -0.0023      0.003     -0.654      0.516      -0.009       0.005\nFairway Approach (RTP Score)-AVG RTP                            -0.9811      0.650     -1.510      0.137      -2.285       0.323\nGoing for the Green - Birdie or Better-%                        -0.0005      0.002     -0.274      0.785      -0.004       0.003\nGoing for the Green - Hit Green Pct-%                            0.0009      0.002      0.561      0.577      -0.002       0.004\nGIR Pct - Fairway Bunker-%                                       0.0003      0.001      0.283      0.778      -0.002       0.002\nApproaches Left Rough (RTP Score)-AVG RTP                       -0.1833      0.159     -1.150      0.255      -0.503       0.136\nGIR Percentage from Fairway-%                                   -0.0005      0.006     -0.080      0.936      -0.012       0.011\nApproaches Right Rough (RTP Score)-AVG RTP                      -0.0588      0.183     -0.322      0.749      -0.426       0.308\nPar 5 Going for the Green-%                                      0.0021      0.002      1.147      0.257      -0.002       0.006\nFront 9 Par 4 Scoring Average-AVG                               -0.5911      1.340     -0.441      0.661      -3.281       2.099\nBack 9 Par 4 Scoring Average-AVG                                -0.6927      1.251     -0.554      0.582      -3.203       1.818\nScoring Average Before Cut-AVG                                  -0.0519      0.070     -0.743      0.461      -0.192       0.088\nFinal Round Scoring Average-AVG                                  0.0215      0.018      1.198      0.236      -0.015       0.057\nRound 3 Scoring Average-AVG                                      0.0732      0.019      3.845      0.000       0.035       0.111\nRound 2 Scoring Average-AVG                                      0.0835      0.037      2.286      0.026       0.010       0.157\nRound 1 Scoring Average-AVG                                      0.0349      0.066      0.526      0.601      -0.098       0.168\nFront 9 Round 1 Scoring Average-AVG                              0.0672      0.060      1.113      0.271      -0.054       0.188\nBack 9 Round 1 Scoring Average-AVG                               0.0446      0.058      0.765      0.448      -0.072       0.162\nFront 9 Par 3 Scoring Average-AVG                               -0.4650      0.652     -0.713      0.479      -1.774       0.844\nBack 9 Par 3 Scoring Average-AVG                                -0.4100      0.633     -0.648      0.520      -1.680       0.860\nPar 5 Performance-PAR 5 AVG                                     -0.0606      1.029     -0.059      0.953      -2.126       2.005\nPar 4 Performance-PAR 4 AVG                                      3.3566      2.321      1.446      0.154      -1.301       8.014\nPar 4 Scoring Average-AVG                                        5.3851      1.476      3.649      0.001       2.424       8.346\nPar Breakers-%                                                   0.1081      0.025      4.377      0.000       0.059       0.158\nBounce Back-%                                                    0.0024      0.003      0.935      0.354      -0.003       0.008\nBirdie or Better Percentage-%                                    0.1081      0.025      4.377      0.000       0.059       0.158\nBack 9 Scoring Average-AVG                                       0.1223      0.166      0.735      0.466      -0.212       0.456\nBack 9 Par 5 Scoring Average-AVG                                 1.1863      1.117      1.062      0.293      -1.055       3.428\nPar 4 Birdie or Better Leaders-%                                -0.1034      0.022     -4.730      0.000      -0.147      -0.060\nBack 9 Round 3 Scoring Average-AVG                              -0.0302      0.017     -1.760      0.084      -0.065       0.004\nPar 5 Scoring Average-AVG                                       -0.0606      1.029     -0.059      0.953      -2.126       2.005\nPar 3 Scoring Average-AVG                                        2.4145      1.035      2.333      0.024       0.337       4.491\nPar 5 Birdie or Better Leaders-%                                -0.0325      0.006     -5.184      0.000      -0.045      -0.020\nFront 9 Round 4 Scoring Average-AVG                              0.0319      0.012      2.553      0.014       0.007       0.057\nPar 3 Birdie or Better Leaders-%                                -0.0459      0.008     -5.480      0.000      -0.063      -0.029\nStroke Differential Field Average-STROKE DIFFERENTIAL           -0.0225      0.068     -0.329      0.743      -0.159       0.115\nEagles (Holes per)-# OF EAGLES                                  -0.0014      0.008     -0.166      0.869      -0.018       0.015\nScoring Average (Actual)-ROUNDS                                  0.0007      0.001      0.676      0.502      -0.001       0.003\nFront 9 Par 5 Scoring Average-AVG                                1.0307      0.937      1.100      0.276      -0.850       2.911\nPar 3 Performance-PAR 3 AVG                                      0.9991      1.053      0.949      0.347      -1.113       3.112\nPercentage of Yardage covered by Tee Shots-AVG (%)              -0.1019      0.049     -2.087      0.042      -0.200      -0.004\nRight Tendency-%                                                 0.7834      0.867      0.903      0.371      -0.957       2.524\nRight Tendency-AVG RTP SCORE                                    -0.0085      0.026     -0.326      0.746      -0.061       0.044\nPercentage of Yardage covered by Tee Shots - Par 4's-AVG (%)     0.0785      0.041      1.921      0.060      -0.003       0.161\nLeft Tendency-%                                                  0.7831      0.868      0.903      0.371      -0.958       2.524\nLeft Tendency-AVG RTP SCORE                                     -0.0172      0.021     -0.802      0.426      -0.060       0.026\nLeft Rough Tendency (RTP Score)-RTP SCORE                        0.1746      0.162      1.077      0.286      -0.151       0.500\nRight Rough Tendency (RTP Score)-RTP SCORE                       0.0091      0.199      0.046      0.964      -0.391       0.409\nFairway Bunker Tendency-RELATIVE TO PAR                          0.0022      0.090      0.024      0.981      -0.178       0.182\nRight Rough Tendency-%                                           0.2143      1.939      0.111      0.912      -3.677       4.106\nLeft Rough Tendency-%                                            0.2152      1.937      0.111      0.912      -3.672       4.103\nProximity to Hole (ARG)-SCRAMBLING RANK                          0.0022      0.001      2.211      0.031       0.000       0.004\nProximity to Hole from Fringe-SCRAMBLING RANK                   -0.0018      0.001     -1.307      0.197      -0.004       0.001\nScrambling Fringe (RTP Score)-AVG RTP                            0.1265      0.119      1.063      0.293      -0.112       0.365\nScrambling from Other Locations-%                               -0.0002      0.002     -0.084      0.934      -0.005       0.004\nScrambling from the Sand-%                                       0.0020      0.002      1.078      0.286      -0.002       0.006\nScrambling Rough (RTP Score)-AVG RTP                             0.1337      0.295      0.454      0.652      -0.458       0.725\nAvgPointsPerGame                                                 0.0003      0.002      0.139      0.890      -0.004       0.004\n==============================================================================\nOmnibus:                        0.107   Durbin-Watson:                   1.686\nProb(Omnibus):                  0.948   Jarque-Bera (JB):                0.246\nSkew:                           0.045   Prob(JB):                        0.884\nKurtosis:                       2.814   Cond. No.                     1.00e+16\n==============================================================================\n\nWarnings:\n[1] Standard Errors assume that the covariance matrix of the errors is correctly specified.\n[2] The smallest eigenvalue is 2.01e-25. This might indicate that there are\nstrong multicollinearity problems or that the design matrix is singular.\n"
    }
   ],
   "source": [
    "run_multi_regression(filename='travelers_data_cleaned.csv')"
   ]
  },
  {
   "cell_type": "code",
   "execution_count": 7,
   "metadata": {
    "tags": []
   },
   "outputs": [
    {
     "output_type": "stream",
     "name": "stdout",
     "text": "Intercept: \n [71.89313343]\nCoefficients: \n [[-0.03250579  0.01399848  0.03227418 -0.02728181  0.00454132  0.00085162\n   0.0018495  -0.6254073   0.63880624 -0.34918476 -0.39737054 -0.58926599\n  -0.53720167  0.10400445]]\n\n _________________\n\n _________________\n\n _________________\n\n _________________\n                                 OLS Regression Results                                 \n========================================================================================\nDep. Variable:     Scoring Average (Actual)-AVG   R-squared:                       0.892\nModel:                                      OLS   Adj. R-squared:                  0.880\nMethod:                           Least Squares   F-statistic:                     72.53\nDate:                          Thu, 25 Jun 2020   Prob (F-statistic):           1.96e-52\nTime:                                  00:22:12   Log-Likelihood:                -11.135\nNo. Observations:                           138   AIC:                             52.27\nDf Residuals:                               123   BIC:                             96.18\nDf Model:                                    14                                         \nCovariance Type:                      nonrobust                                         \n==========================================================================================================\n                                             coef    std err          t      P>|t|      [0.025      0.975]\n----------------------------------------------------------------------------------------------------------\nconst                                     71.8931      1.464     49.107      0.000      68.995      74.791\nDriving Accuracy Percentage-%             -0.0325      0.013     -2.553      0.012      -0.058      -0.007\nRough Tendency-%                           0.0140      0.015      0.939      0.350      -0.016       0.044\nHit Fairway Percentage-%                   0.0323      0.017      1.883      0.062      -0.002       0.066\nScrambling-%                              -0.0273      0.013     -2.094      0.038      -0.053      -0.001\nScrambling from the Fringe-%               0.0045      0.004      1.244      0.216      -0.003       0.012\nSand Save Percentage-%                     0.0009      0.004      0.196      0.845      -0.008       0.009\nScrambling from the Rough-%                0.0018      0.005      0.355      0.723      -0.008       0.012\nBirdie Average-AVG                        -0.6254      0.104     -6.029      0.000      -0.831      -0.420\nBogey Average-AVERAGE BOGEYS PER ROUND     0.6388      0.136      4.712      0.000       0.370       0.907\nSG: Putting-AVERAGE                       -0.3492      0.080     -4.354      0.000      -0.508      -0.190\nSG: Around-the-Green-AVERAGE              -0.3974      0.234     -1.697      0.092      -0.861       0.066\nSG: Approach the Green-AVERAGE            -0.5893      0.210     -2.800      0.006      -1.006      -0.173\nSG: Off-the-Tee-AVERAGE                   -0.5372      0.204     -2.632      0.010      -0.941      -0.133\nSG: Tee-to-Green-AVERAGE                   0.1040      0.202      0.514      0.608      -0.296       0.504\n==============================================================================\nOmnibus:                        4.185   Durbin-Watson:                   1.891\nProb(Omnibus):                  0.123   Jarque-Bera (JB):                3.642\nSkew:                          -0.347   Prob(JB):                        0.162\nKurtosis:                       3.389   Cond. No.                     9.97e+03\n==============================================================================\n\nWarnings:\n[1] Standard Errors assume that the covariance matrix of the errors is correctly specified.\n[2] The condition number is large, 9.97e+03. This might indicate that there are\nstrong multicollinearity or other numerical problems.\n"
    }
   ],
   "source": [
    "run_multi_regression(filename='sg_w_percentages.csv')"
   ]
  },
  {
   "cell_type": "code",
   "execution_count": null,
   "metadata": {},
   "outputs": [],
   "source": []
  }
 ],
 "metadata": {
  "language_info": {
   "codemirror_mode": {
    "name": "ipython",
    "version": 3
   },
   "file_extension": ".py",
   "mimetype": "text/x-python",
   "name": "python",
   "nbconvert_exporter": "python",
   "pygments_lexer": "ipython3",
   "version": "3.7.7-final"
  },
  "orig_nbformat": 2,
  "kernelspec": {
   "name": "python37764bitscrawlconda7160cfcfc2114dd48f1ecc907ae40611",
   "display_name": "Python 3.7.7 64-bit ('scrawl': conda)"
  }
 },
 "nbformat": 4,
 "nbformat_minor": 2
}
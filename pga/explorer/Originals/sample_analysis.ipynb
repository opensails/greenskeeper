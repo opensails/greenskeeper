{
 "cells": [
  {
   "cell_type": "code",
   "execution_count": 5,
   "metadata": {},
   "outputs": [],
   "source": [
    "import pandas as pd\n",
    "import random\n",
    "import numpy as np\n",
    "from matplotlib import pyplot as plt\n",
    "import seaborn as sns"
   ]
  },
  {
   "cell_type": "code",
   "execution_count": 24,
   "metadata": {},
   "outputs": [
    {
     "output_type": "stream",
     "name": "stdout",
     "text": "222\n22\n"
    }
   ],
   "source": [
    "filename = 'fulldata_brokedown.csv'\n",
    "n = sum(1 for line in open(filename))-1 #count number of rows in column\n",
    "print(n)\n",
    "s = n//10 #sample size of 10%\n",
    "print(s)\n",
    "skip = sorted(random.sample(range(1, n+1), n-s))\n",
    "sample_data = pd.read_csv(filename, skiprows=skip, index_col='player')"
   ]
  },
  {
   "cell_type": "code",
   "execution_count": 22,
   "metadata": {},
   "outputs": [
    {
     "output_type": "execute_result",
     "data": {
      "text/plain": "[\"Putting from 5-10'-%\",\n 'Putting Average-AVG',\n '3-Putts per Round-AVG',\n 'SG: Putting-AVERAGE',\n 'Average Putting Distance - GIR 1 Putts-AVG',\n 'Overall Putting Average-AVG',\n 'Birdie or Better Conversion Percentage-%',\n 'Average Distance of Birdie putts made-AVG',\n '3-Putt Avoidance-%',\n '2-Putts per Round-AVG',\n 'One-Putt Percentage-%',\n 'Going for the Green - Hit Green Pct-%',\n 'Going for the Green - Birdie or Better-%',\n 'Birdie or Better Percentage - Right Rough-%',\n 'Birdie or Better Percentage - Fairway-%',\n 'Fairway Proximity-AVG',\n 'SG: Approach the Green-AVERAGE',\n 'GIR Percentage - 100+ yards-%',\n 'Average Approach Shot Distance-AVG',\n 'Going for the Green-%',\n 'GIR Pct - Fairway Bunker-%',\n 'Greens in Regulation Percentage-%',\n 'Greens in Regulation Percentage-RELATIVE/PAR',\n 'GIR Percentage from Fairway-%',\n 'Greens or Fringe in Regulation-%',\n 'Par Breakers-%',\n 'SG: Total-AVERAGE',\n 'SG: Total-TOTAL SG:T',\n 'SG: Total-TOTAL SG:T2G',\n 'SG: Total-TOTAL SG:P',\n 'Bogey Average-AVERAGE BOGEYS PER ROUND',\n 'Scoring Average Before Cut-AVG',\n 'Round 3 Scoring Average-AVG',\n 'Birdie or Better Percentage-%',\n 'Birdie to Bogey Ratio-BIRDIE TO BOGEY RATIO',\n 'Scoring Average (Actual)-AVG',\n 'Par 3 Scoring Average-AVG',\n 'Round 2 Scoring Average-AVG',\n 'Birdie Average-AVG',\n 'Bounce Back-%',\n 'Fairway Bunker Tendency-%',\n 'Right Tendency-%',\n 'SG: Tee-to-Green-AVERAGE',\n 'SG: Tee-to-Green-SG:OTT',\n 'SG: Tee-to-Green-SG:APR',\n 'SG: Tee-to-Green-SG:ARG',\n 'SG: Off-the-Tee-AVERAGE',\n 'Left Rough Tendency-%',\n 'Hit Fairway Percentage-%',\n 'Hit Fairway Percentage-RELATIVE TO PAR',\n 'Driving Distance - All Drives-ALL DRIVES',\n 'Right Rough Tendency-%',\n 'Ball Striking-VALUE',\n 'Ball Striking-TOTAL DRV RANK',\n 'Ball Striking-GIR RANK',\n 'Left Tendency-%',\n 'Rough Tendency-%',\n 'Total Driving-ACCURACY RANK',\n 'Distance from Center of Fairway-AVG',\n 'SG: Around-the-Green-AVERAGE',\n 'Sand Save Percentage-%',\n 'Sand Saves from 20-30 yards-%',\n 'Scrambling from < 10 yards-%',\n 'Scrambling from the Rough-%',\n 'Scrambling from > 30 yards-%',\n 'Scrambling from the Fringe-%',\n 'Scrambling 10-20 yds (RTP Score)-AVG RTP',\n 'Sand Saves from 10-20 yards-%',\n 'Scrambling from 10-20 yards-%',\n 'Scrambling Rough (RTP Score)-AVG RTP',\n 'Scrambling from Other Locations-%',\n 'Scrambling from 20-30 yards-%',\n 'Proximity to Hole from < 10 yards-SCRAMBLING RANK',\n 'Scrambling from the Sand-ROUNDS',\n 'Scrambling from the Sand-%',\n 'Scrambling Fringe (RTP Score)-AVG RTP',\n 'Scrambling Fringe (RTP Score)-TOTAL RTP',\n 'Scrambling-%',\n 'Scrambling-PAR OR BETTER',\n 'Scrambling-MISSED GIR']"
     },
     "metadata": {},
     "execution_count": 22
    }
   ],
   "source": [
    "list(sample_data.columns)"
   ]
  },
  {
   "cell_type": "code",
   "execution_count": 4,
   "metadata": {},
   "outputs": [
    {
     "output_type": "stream",
     "name": "stdout",
     "text": "<class 'pandas.core.frame.DataFrame'>\nRangeIndex: 22 entries, 0 to 21\nData columns (total 81 columns):\n #   Column                                             Non-Null Count  Dtype  \n---  ------                                             --------------  -----  \n 0   player                                             22 non-null     object \n 1   Putting from 5-10'-%                               22 non-null     float64\n 2   Putting Average-AVG                                22 non-null     float64\n 3   3-Putts per Round-AVG                              22 non-null     float64\n 4   SG: Putting-AVERAGE                                22 non-null     float64\n 5   Average Putting Distance - GIR 1 Putts-AVG         22 non-null     object \n 6   Overall Putting Average-AVG                        22 non-null     float64\n 7   Birdie or Better Conversion Percentage-%           22 non-null     float64\n 8   Average Distance of Birdie putts made-AVG          22 non-null     object \n 9   3-Putt Avoidance-%                                 22 non-null     float64\n 10  2-Putts per Round-AVG                              22 non-null     float64\n 11  One-Putt Percentage-%                              22 non-null     float64\n 12  Going for the Green - Hit Green Pct-%              22 non-null     float64\n 13  Going for the Green - Birdie or Better-%           22 non-null     float64\n 14  Birdie or Better Percentage - Right Rough-%        22 non-null     float64\n 15  Birdie or Better Percentage - Fairway-%            22 non-null     float64\n 16  Fairway Proximity-AVG                              22 non-null     object \n 17  SG: Approach the Green-AVERAGE                     22 non-null     float64\n 18  GIR Percentage - 100+ yards-%                      22 non-null     float64\n 19  Average Approach Shot Distance-AVG                 22 non-null     float64\n 20  Going for the Green-%                              22 non-null     float64\n 21  GIR Pct - Fairway Bunker-%                         22 non-null     float64\n 22  Greens in Regulation Percentage-%                  22 non-null     float64\n 23  Greens in Regulation Percentage-RELATIVE/PAR       22 non-null     float64\n 24  GIR Percentage from Fairway-%                      22 non-null     float64\n 25  Greens or Fringe in Regulation-%                   22 non-null     float64\n 26  Par Breakers-%                                     22 non-null     float64\n 27  SG: Total-AVERAGE                                  22 non-null     float64\n 28  SG: Total-TOTAL SG:T                               22 non-null     float64\n 29  SG: Total-TOTAL SG:T2G                             22 non-null     float64\n 30  SG: Total-TOTAL SG:P                               22 non-null     float64\n 31  Bogey Average-AVERAGE BOGEYS PER ROUND             22 non-null     float64\n 32  Scoring Average Before Cut-AVG                     22 non-null     float64\n 33  Round 3 Scoring Average-AVG                        22 non-null     float64\n 34  Birdie or Better Percentage-%                      22 non-null     float64\n 35  Birdie to Bogey Ratio-BIRDIE TO BOGEY RATIO        22 non-null     float64\n 36  Scoring Average (Actual)-AVG                       22 non-null     float64\n 37  Par 3 Scoring Average-AVG                          22 non-null     float64\n 38  Round 2 Scoring Average-AVG                        22 non-null     float64\n 39  Birdie Average-AVG                                 22 non-null     float64\n 40  Bounce Back-%                                      22 non-null     float64\n 41  Fairway Bunker Tendency-%                          22 non-null     float64\n 42  Right Tendency-%                                   22 non-null     float64\n 43  SG: Tee-to-Green-AVERAGE                           22 non-null     float64\n 44  SG: Tee-to-Green-SG:OTT                            22 non-null     float64\n 45  SG: Tee-to-Green-SG:APR                            22 non-null     float64\n 46  SG: Tee-to-Green-SG:ARG                            22 non-null     float64\n 47  SG: Off-the-Tee-AVERAGE                            22 non-null     float64\n 48  Left Rough Tendency-%                              22 non-null     float64\n 49  Hit Fairway Percentage-%                           22 non-null     float64\n 50  Hit Fairway Percentage-RELATIVE TO PAR             22 non-null     float64\n 51  Driving Distance - All Drives-ALL DRIVES           22 non-null     float64\n 52  Right Rough Tendency-%                             22 non-null     float64\n 53  Ball Striking-VALUE                                22 non-null     int64  \n 54  Ball Striking-TOTAL DRV RANK                       22 non-null     int64  \n 55  Ball Striking-GIR RANK                             22 non-null     int64  \n 56  Left Tendency-%                                    22 non-null     float64\n 57  Rough Tendency-%                                   22 non-null     float64\n 58  Total Driving-ACCURACY RANK                        22 non-null     int64  \n 59  Distance from Center of Fairway-AVG                22 non-null     object \n 60  SG: Around-the-Green-AVERAGE                       22 non-null     float64\n 61  Sand Save Percentage-%                             22 non-null     float64\n 62  Sand Saves from 20-30 yards-%                      22 non-null     float64\n 63  Scrambling from < 10 yards-%                       22 non-null     float64\n 64  Scrambling from the Rough-%                        22 non-null     float64\n 65  Scrambling from > 30 yards-%                       22 non-null     float64\n 66  Scrambling from the Fringe-%                       22 non-null     float64\n 67  Scrambling 10-20 yds (RTP Score)-AVG RTP           22 non-null     float64\n 68  Sand Saves from 10-20 yards-%                      22 non-null     float64\n 69  Scrambling from 10-20 yards-%                      22 non-null     float64\n 70  Scrambling Rough (RTP Score)-AVG RTP               22 non-null     float64\n 71  Scrambling from Other Locations-%                  22 non-null     float64\n 72  Scrambling from 20-30 yards-%                      22 non-null     float64\n 73  Proximity to Hole from < 10 yards-SCRAMBLING RANK  22 non-null     int64  \n 74  Scrambling from the Sand-ROUNDS                    22 non-null     int64  \n 75  Scrambling from the Sand-%                         22 non-null     float64\n 76  Scrambling Fringe (RTP Score)-AVG RTP              22 non-null     object \n 77  Scrambling Fringe (RTP Score)-TOTAL RTP            22 non-null     object \n 78  Scrambling-%                                       22 non-null     float64\n 79  Scrambling-PAR OR BETTER                           22 non-null     int64  \n 80  Scrambling-MISSED GIR                              22 non-null     int64  \ndtypes: float64(66), int64(8), object(7)\nmemory usage: 14.0+ KB\n"
    }
   ],
   "source": [
    "sample_data.info()"
   ]
  },
  {
   "cell_type": "code",
   "execution_count": 9,
   "metadata": {},
   "outputs": [
    {
     "output_type": "execute_result",
     "data": {
      "text/plain": "                  player  SG: Tee-to-Green-AVERAGE\n0           Stewart Cink                     0.094\n1           Bubba Watson                     0.584\n2          Peter Uihlein                     0.016\n3   Kiradech Aphibarnrat                    -0.155\n4            Adam Schenk                     0.214\n5             Tony Finau                     1.521\n6         Tyler McCumber                     0.425\n7       Hideki Matsuyama                     1.821\n8             Sungjae Im                     1.049\n9          Cameron Smith                    -0.269\n10         Kramer Hickok                    -0.074\n11      Michael Thompson                    -0.663\n12          Jimmy Walker                    -0.127\n13        Viktor Hovland                     0.300\n14     Scottie Scheffler                     0.967\n15         Byeong Hun An                     1.070\n16          Jason Dufner                     0.499\n17         Shawn Stefani                    -0.563\n18         Rafael Campos                     0.030\n19            Chris Kirk                    -0.017\n20          Webb Simpson                     1.073\n21           Zack Sucher                     0.230",
      "text/html": "<div>\n<style scoped>\n    .dataframe tbody tr th:only-of-type {\n        vertical-align: middle;\n    }\n\n    .dataframe tbody tr th {\n        vertical-align: top;\n    }\n\n    .dataframe thead th {\n        text-align: right;\n    }\n</style>\n<table border=\"1\" class=\"dataframe\">\n  <thead>\n    <tr style=\"text-align: right;\">\n      <th></th>\n      <th>player</th>\n      <th>SG: Tee-to-Green-AVERAGE</th>\n    </tr>\n  </thead>\n  <tbody>\n    <tr>\n      <th>0</th>\n      <td>Stewart Cink</td>\n      <td>0.094</td>\n    </tr>\n    <tr>\n      <th>1</th>\n      <td>Bubba Watson</td>\n      <td>0.584</td>\n    </tr>\n    <tr>\n      <th>2</th>\n      <td>Peter Uihlein</td>\n      <td>0.016</td>\n    </tr>\n    <tr>\n      <th>3</th>\n      <td>Kiradech Aphibarnrat</td>\n      <td>-0.155</td>\n    </tr>\n    <tr>\n      <th>4</th>\n      <td>Adam Schenk</td>\n      <td>0.214</td>\n    </tr>\n    <tr>\n      <th>5</th>\n      <td>Tony Finau</td>\n      <td>1.521</td>\n    </tr>\n    <tr>\n      <th>6</th>\n      <td>Tyler McCumber</td>\n      <td>0.425</td>\n    </tr>\n    <tr>\n      <th>7</th>\n      <td>Hideki Matsuyama</td>\n      <td>1.821</td>\n    </tr>\n    <tr>\n      <th>8</th>\n      <td>Sungjae Im</td>\n      <td>1.049</td>\n    </tr>\n    <tr>\n      <th>9</th>\n      <td>Cameron Smith</td>\n      <td>-0.269</td>\n    </tr>\n    <tr>\n      <th>10</th>\n      <td>Kramer Hickok</td>\n      <td>-0.074</td>\n    </tr>\n    <tr>\n      <th>11</th>\n      <td>Michael Thompson</td>\n      <td>-0.663</td>\n    </tr>\n    <tr>\n      <th>12</th>\n      <td>Jimmy Walker</td>\n      <td>-0.127</td>\n    </tr>\n    <tr>\n      <th>13</th>\n      <td>Viktor Hovland</td>\n      <td>0.300</td>\n    </tr>\n    <tr>\n      <th>14</th>\n      <td>Scottie Scheffler</td>\n      <td>0.967</td>\n    </tr>\n    <tr>\n      <th>15</th>\n      <td>Byeong Hun An</td>\n      <td>1.070</td>\n    </tr>\n    <tr>\n      <th>16</th>\n      <td>Jason Dufner</td>\n      <td>0.499</td>\n    </tr>\n    <tr>\n      <th>17</th>\n      <td>Shawn Stefani</td>\n      <td>-0.563</td>\n    </tr>\n    <tr>\n      <th>18</th>\n      <td>Rafael Campos</td>\n      <td>0.030</td>\n    </tr>\n    <tr>\n      <th>19</th>\n      <td>Chris Kirk</td>\n      <td>-0.017</td>\n    </tr>\n    <tr>\n      <th>20</th>\n      <td>Webb Simpson</td>\n      <td>1.073</td>\n    </tr>\n    <tr>\n      <th>21</th>\n      <td>Zack Sucher</td>\n      <td>0.230</td>\n    </tr>\n  </tbody>\n</table>\n</div>"
     },
     "metadata": {},
     "execution_count": 9
    }
   ],
   "source": [
    "sample_data[['player', 'SG: Tee-to-Green-AVERAGE']]"
   ]
  },
  {
   "cell_type": "code",
   "execution_count": null,
   "metadata": {},
   "outputs": [],
   "source": []
  }
 ],
 "metadata": {
  "language_info": {
   "codemirror_mode": {
    "name": "ipython",
    "version": 3
   },
   "file_extension": ".py",
   "mimetype": "text/x-python",
   "name": "python",
   "nbconvert_exporter": "python",
   "pygments_lexer": "ipython3",
   "version": "3.7.7-final"
  },
  "orig_nbformat": 2,
  "kernelspec": {
   "name": "python37764bitscrawlconda7160cfcfc2114dd48f1ecc907ae40611",
   "display_name": "Python 3.7.7 64-bit ('scrawl': conda)"
  }
 },
 "nbformat": 4,
 "nbformat_minor": 2
}
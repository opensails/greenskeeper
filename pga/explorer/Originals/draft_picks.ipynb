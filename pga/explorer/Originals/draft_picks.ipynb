{
 "cells": [
  {
   "cell_type": "markdown",
   "metadata": {},
   "source": [
    "# Using pydfs_lineup_optimizer"
   ]
  },
  {
   "cell_type": "code",
   "execution_count": 1,
   "metadata": {},
   "outputs": [],
   "source": [
    "import pandas as pd\n",
    "import numpy as np\n",
    "from matplotlib import pyplot as plt\n",
    "from scipy.optimize import minimize\n",
    "import pulp\n",
    "from pydfs_lineup_optimizer import get_optimizer, Site, Sport\n"
   ]
  },
  {
   "cell_type": "code",
   "execution_count": 4,
   "metadata": {
    "tags": []
   },
   "outputs": [
    {
     "output_type": "stream",
     "name": "stdout",
     "text": "1. G     Rory McIlroy                  98.71   11300.0$  \n 2. G     Patrick Reed                  82.73   8800.0$   \n 3. G     Denny McCarthy                70.39   6200.0$   \n 4. G     Tyrrell Hatton                93.25   8000.0$   \n 5. G     Webb Simpson                  88.86   9000.0$   \n 6. G     Victor Perez                  78.33   6500.0$   \n\nFantasy Points 512.27\nSalary 49800.00\n\n[Rory McIlroy G (Golf), Patrick Reed G (Golf), Denny McCarthy G (Golf), Tyrrell Hatton G (Golf), Webb Simpson G (Golf), Victor Perez G (Golf)]\n512.27\n49800.0\n"
    }
   ],
   "source": [
    "optimizer = get_optimizer(Site.DRAFTKINGS, Sport.GOLF)\n",
    "optimizer.load_players_from_csv(\"DK_RBC.csv\")\n",
    "for lineup in optimizer.optimize(n=1):\n",
    "    print(lineup)\n",
    "    print(lineup.players) # list of players\n",
    "    print(lineup.fantasy_points_projection)\n",
    "    print(lineup.salary_costs)"
   ]
  },
  {
   "cell_type": "code",
   "execution_count": 3,
   "metadata": {
    "tags": []
   },
   "outputs": [
    {
     "output_type": "stream",
     "name": "stdout",
     "text": "1. G     Adam Hadwin                   0.508   7300.0$   \n 2. G     Tony Finau                    0.515   8200.0$   \n 3. G     Harris English                0.549   7300.0$   \n 4. G     Bubba Watson                  0.555   7400.0$   \n 5. G     Jon Rahm                      0.763   10500.0$  \n 6. G     Patrick Reed                  0.877   8800.0$   \n\nFantasy Points 3.77\nSalary 49500.00\n\n[Adam Hadwin G (Golf), Tony Finau G (Golf), Harris English G (Golf), Bubba Watson G (Golf), Jon Rahm G (Golf), Patrick Reed G (Golf)]\n3.767\n49500.0\n"
    }
   ],
   "source": [
    "optimizer = get_optimizer(Site.DRAFTKINGS, Sport.GOLF)\n",
    "optimizer.load_players_from_csv(\"DK_RBC_Personal.csv\")\n",
    "for lineup in optimizer.optimize(n=1):\n",
    "    print(lineup)\n",
    "    print(lineup.players) # list of players\n",
    "    print(lineup.fantasy_points_projection)\n",
    "    print(lineup.salary_costs)"
   ]
  }
 ],
 "metadata": {
  "language_info": {
   "codemirror_mode": {
    "name": "ipython",
    "version": 3
   },
   "file_extension": ".py",
   "mimetype": "text/x-python",
   "name": "python",
   "nbconvert_exporter": "python",
   "pygments_lexer": "ipython3",
   "version": "3.7.7-final"
  },
  "orig_nbformat": 2,
  "kernelspec": {
   "name": "python37764bitscrawlconda7160cfcfc2114dd48f1ecc907ae40611",
   "display_name": "Python 3.7.7 64-bit ('scrawl': conda)"
  }
 },
 "nbformat": 4,
 "nbformat_minor": 2
}
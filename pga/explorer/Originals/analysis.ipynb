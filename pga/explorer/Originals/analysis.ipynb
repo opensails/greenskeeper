{
 "cells": [
  {
   "cell_type": "code",
   "execution_count": 1,
   "metadata": {},
   "outputs": [],
   "source": [
    "import pandas as pd\n",
    "import numpy as np\n",
    "from matplotlib import pyplot as plt\n",
    "import seaborn as sns"
   ]
  },
  {
   "cell_type": "code",
   "execution_count": 5,
   "metadata": {},
   "outputs": [],
   "source": [
    "data = pd.read_csv('fulldata6222020.csv')"
   ]
  },
  {
   "cell_type": "code",
   "execution_count": 6,
   "metadata": {},
   "outputs": [
    {
     "output_type": "execute_result",
     "data": {
      "text/plain": "pandas.core.frame.DataFrame"
     },
     "metadata": {},
     "execution_count": 6
    }
   ],
   "source": [
    "type(data)"
   ]
  },
  {
   "cell_type": "code",
   "execution_count": 14,
   "metadata": {},
   "outputs": [
    {
     "output_type": "error",
     "ename": "NameError",
     "evalue": "name 'dtype' is not defined",
     "traceback": [
      "\u001b[1;31m---------------------------------------------------------------------------\u001b[0m",
      "\u001b[1;31mNameError\u001b[0m                                 Traceback (most recent call last)",
      "\u001b[1;32m<ipython-input-14-dc41df972a45>\u001b[0m in \u001b[0;36m<module>\u001b[1;34m\u001b[0m\n\u001b[0;32m      1\u001b[0m \u001b[1;32mfor\u001b[0m \u001b[0mcolumn\u001b[0m \u001b[1;32min\u001b[0m \u001b[0mdata\u001b[0m\u001b[1;33m:\u001b[0m\u001b[1;33m\u001b[0m\u001b[1;33m\u001b[0m\u001b[0m\n\u001b[1;32m----> 2\u001b[1;33m     \u001b[1;32mif\u001b[0m \u001b[0mdtype\u001b[0m\u001b[1;33m(\u001b[0m\u001b[0mdata\u001b[0m\u001b[1;33m[\u001b[0m\u001b[0mcolumn\u001b[0m\u001b[1;33m]\u001b[0m\u001b[1;33m)\u001b[0m \u001b[1;33m==\u001b[0m \u001b[1;34m'float64'\u001b[0m\u001b[1;33m:\u001b[0m\u001b[1;33m\u001b[0m\u001b[1;33m\u001b[0m\u001b[0m\n\u001b[0m\u001b[0;32m      3\u001b[0m         \u001b[0mdata\u001b[0m\u001b[1;33m[\u001b[0m\u001b[0mcolumn\u001b[0m\u001b[1;33m]\u001b[0m\u001b[1;33m.\u001b[0m\u001b[0mround\u001b[0m\u001b[1;33m(\u001b[0m\u001b[1;36m2\u001b[0m\u001b[1;33m)\u001b[0m\u001b[1;33m\u001b[0m\u001b[1;33m\u001b[0m\u001b[0m\n",
      "\u001b[1;31mNameError\u001b[0m: name 'dtype' is not defined"
     ]
    }
   ],
   "source": [
    "for column in data:\n",
    "    if dtype(data[column]) == 'float64':\n",
    "        data[column].round(2)"
   ]
  },
  {
   "cell_type": "code",
   "execution_count": 11,
   "metadata": {},
   "outputs": [],
   "source": [
    "pd.options.display.float_format = '{:, .1f}'.format"
   ]
  },
  {
   "cell_type": "code",
   "execution_count": 10,
   "metadata": {},
   "outputs": [],
   "source": [
    "data.fillna(0, inplace=True)"
   ]
  },
  {
   "cell_type": "code",
   "execution_count": 11,
   "metadata": {},
   "outputs": [
    {
     "output_type": "execute_result",
     "data": {
      "text/plain": "                 player  One-Putt Percentage - Round 1-ROUNDS  \\\n0           Luke Donald                                  18.0   \n1          Patrick Reed                                  34.0   \n2          Ricky Barnes                                  28.0   \n3    Francesco Molinari                                  19.0   \n4         Wyndham Clark                                  43.0   \n..                  ...                                   ...   \n966       Rahil Gangjee                                   0.0   \n967      Kim Leun-Kwang                                   0.0   \n968    Dawson Armstrong                                   0.0   \n969         Kevin Lucas                                   0.0   \n970   Alistair Docherty                                   0.0   \n\n     One-Putt Percentage - Round 1-%  \\\n0                              48.89   \n1                              48.15   \n2                              47.92   \n3                              47.22   \n4                              47.22   \n..                               ...   \n966                             0.00   \n967                             0.00   \n968                             0.00   \n969                             0.00   \n970                             0.00   \n\n     One-Putt Percentage - Round 1-# OF 1 PUTTS  \\\n0                                          44.0   \n1                                          78.0   \n2                                          69.0   \n3                                          51.0   \n4                                         119.0   \n..                                          ...   \n966                                         0.0   \n967                                         0.0   \n968                                         0.0   \n969                                         0.0   \n970                                         0.0   \n\n     One-Putt Percentage - Round 1-# OF HOLES  Putting from Inside 5'-ROUNDS  \\\n0                                        90.0                           20.0   \n1                                       162.0                           36.0   \n2                                       144.0                           28.0   \n3                                       108.0                           19.0   \n4                                       252.0                           47.0   \n..                                        ...                            ...   \n966                                       0.0                            0.0   \n967                                       0.0                            0.0   \n968                                       0.0                            0.0   \n969                                       0.0                            0.0   \n970                                       0.0                            0.0   \n\n     Putting from Inside 5'-%  Putting from Inside 5'-ATTEMPTS  \\\n0                       97.33                            187.0   \n1                       97.00                            367.0   \n2                       97.53                            243.0   \n3                       95.51                            178.0   \n4                       98.18                            439.0   \n..                        ...                              ...   \n966                      0.00                              0.0   \n967                      0.00                              0.0   \n968                      0.00                              0.0   \n969                      0.00                              0.0   \n970                      0.00                              0.0   \n\n     Putting from Inside 5'-PUTTS MADE  3-Putt Avoidance - Inside 5'-ROUNDS  \\\n0                                182.0                                 18.0   \n1                                356.0                                 34.0   \n2                                237.0                                 28.0   \n3                                170.0                                 19.0   \n4                                431.0                                 43.0   \n..                                 ...                                  ...   \n966                                0.0                                  0.0   \n967                                0.0                                  0.0   \n968                                0.0                                  0.0   \n969                                0.0                                  0.0   \n970                                0.0                                  0.0   \n\n     ...  Proximity to Hole from Rough-ROUNDS  \\\n0    ...                                 20.0   \n1    ...                                 36.0   \n2    ...                                 28.0   \n3    ...                                 19.0   \n4    ...                                 47.0   \n..   ...                                  ...   \n966  ...                                  0.0   \n967  ...                                  0.0   \n968  ...                                  0.0   \n969  ...                                  0.0   \n970  ...                                  0.0   \n\n     Proximity to Hole from Rough-AVG DTP  \\\n0                                   7' 2\"   \n1                                   7' 9\"   \n2                                   7' 1\"   \n3                                   8' 4\"   \n4                                   8' 8\"   \n..                                    ...   \n966                                     0   \n967                                     0   \n968                                     0   \n969                                     0   \n970                                     0   \n\n     Proximity to Hole from Rough-TOTAL DISTANCE (FEET)  \\\n0                                              236.083    \n1                                              424.750    \n2                                              233.583    \n3                                              324.333    \n4                                              700.167    \n..                                                 ...    \n966                                              0.000    \n967                                              0.000    \n968                                              0.000    \n969                                              0.000    \n970                                              0.000    \n\n     Proximity to Hole from Rough-# OF SHOTS  \\\n0                                       33.0   \n1                                       55.0   \n2                                       33.0   \n3                                       39.0   \n4                                       81.0   \n..                                       ...   \n966                                      0.0   \n967                                      0.0   \n968                                      0.0   \n969                                      0.0   \n970                                      0.0   \n\n     Proximity to Hole from Rough-SCRAMBLING RANK  \\\n0                                           130.0   \n1                                            36.0   \n2                                            15.0   \n3                                           129.0   \n4                                           167.0   \n..                                            ...   \n966                                           0.0   \n967                                           0.0   \n968                                           0.0   \n969                                           0.0   \n970                                           0.0   \n\n     Proximity to Hole from 20-30 yards-ROUNDS  \\\n0                                         18.0   \n1                                         34.0   \n2                                         28.0   \n3                                         19.0   \n4                                         43.0   \n..                                         ...   \n966                                        0.0   \n967                                        0.0   \n968                                        0.0   \n969                                        0.0   \n970                                        0.0   \n\n     Proximity to Hole from 20-30 yards-AVG DTP  \\\n0                                         8' 1\"   \n1                                         8' 8\"   \n2                                        7' 10\"   \n3                                         9' 3\"   \n4                                        9' 10\"   \n..                                          ...   \n966                                           0   \n967                                           0   \n968                                           0   \n969                                           0   \n970                                           0   \n\n     Proximity to Hole from 20-30 yards-TOTAL DISTANCE (FEET)  \\\n0                                              112.917          \n1                                              371.250          \n2                                              227.250          \n3                                              166.833          \n4                                              539.583          \n..                                                 ...          \n966                                              0.000          \n967                                              0.000          \n968                                              0.000          \n969                                              0.000          \n970                                              0.000          \n\n     Proximity to Hole from 20-30 yards-# OF SHOTS  \\\n0                                             14.0   \n1                                             43.0   \n2                                             29.0   \n3                                             18.0   \n4                                             55.0   \n..                                             ...   \n966                                            0.0   \n967                                            0.0   \n968                                            0.0   \n969                                            0.0   \n970                                            0.0   \n\n     Proximity to Hole from 20-30 yards-SCRAMBLING RANK  \n0                                                156.0   \n1                                                 22.0   \n2                                                 16.0   \n3                                                117.0   \n4                                                149.0   \n..                                                 ...   \n966                                                0.0   \n967                                                0.0   \n968                                                0.0   \n969                                                0.0   \n970                                                0.0   \n\n[971 rows x 1540 columns]",
      "text/html": "<div>\n<style scoped>\n    .dataframe tbody tr th:only-of-type {\n        vertical-align: middle;\n    }\n\n    .dataframe tbody tr th {\n        vertical-align: top;\n    }\n\n    .dataframe thead th {\n        text-align: right;\n    }\n</style>\n<table border=\"1\" class=\"dataframe\">\n  <thead>\n    <tr style=\"text-align: right;\">\n      <th></th>\n      <th>player</th>\n      <th>One-Putt Percentage - Round 1-ROUNDS</th>\n      <th>One-Putt Percentage - Round 1-%</th>\n      <th>One-Putt Percentage - Round 1-# OF 1 PUTTS</th>\n      <th>One-Putt Percentage - Round 1-# OF HOLES</th>\n      <th>Putting from Inside 5'-ROUNDS</th>\n      <th>Putting from Inside 5'-%</th>\n      <th>Putting from Inside 5'-ATTEMPTS</th>\n      <th>Putting from Inside 5'-PUTTS MADE</th>\n      <th>3-Putt Avoidance - Inside 5'-ROUNDS</th>\n      <th>...</th>\n      <th>Proximity to Hole from Rough-ROUNDS</th>\n      <th>Proximity to Hole from Rough-AVG DTP</th>\n      <th>Proximity to Hole from Rough-TOTAL DISTANCE (FEET)</th>\n      <th>Proximity to Hole from Rough-# OF SHOTS</th>\n      <th>Proximity to Hole from Rough-SCRAMBLING RANK</th>\n      <th>Proximity to Hole from 20-30 yards-ROUNDS</th>\n      <th>Proximity to Hole from 20-30 yards-AVG DTP</th>\n      <th>Proximity to Hole from 20-30 yards-TOTAL DISTANCE (FEET)</th>\n      <th>Proximity to Hole from 20-30 yards-# OF SHOTS</th>\n      <th>Proximity to Hole from 20-30 yards-SCRAMBLING RANK</th>\n    </tr>\n  </thead>\n  <tbody>\n    <tr>\n      <th>0</th>\n      <td>Luke Donald</td>\n      <td>18.0</td>\n      <td>48.89</td>\n      <td>44.0</td>\n      <td>90.0</td>\n      <td>20.0</td>\n      <td>97.33</td>\n      <td>187.0</td>\n      <td>182.0</td>\n      <td>18.0</td>\n      <td>...</td>\n      <td>20.0</td>\n      <td>7' 2\"</td>\n      <td>236.083</td>\n      <td>33.0</td>\n      <td>130.0</td>\n      <td>18.0</td>\n      <td>8' 1\"</td>\n      <td>112.917</td>\n      <td>14.0</td>\n      <td>156.0</td>\n    </tr>\n    <tr>\n      <th>1</th>\n      <td>Patrick Reed</td>\n      <td>34.0</td>\n      <td>48.15</td>\n      <td>78.0</td>\n      <td>162.0</td>\n      <td>36.0</td>\n      <td>97.00</td>\n      <td>367.0</td>\n      <td>356.0</td>\n      <td>34.0</td>\n      <td>...</td>\n      <td>36.0</td>\n      <td>7' 9\"</td>\n      <td>424.750</td>\n      <td>55.0</td>\n      <td>36.0</td>\n      <td>34.0</td>\n      <td>8' 8\"</td>\n      <td>371.250</td>\n      <td>43.0</td>\n      <td>22.0</td>\n    </tr>\n    <tr>\n      <th>2</th>\n      <td>Ricky Barnes</td>\n      <td>28.0</td>\n      <td>47.92</td>\n      <td>69.0</td>\n      <td>144.0</td>\n      <td>28.0</td>\n      <td>97.53</td>\n      <td>243.0</td>\n      <td>237.0</td>\n      <td>28.0</td>\n      <td>...</td>\n      <td>28.0</td>\n      <td>7' 1\"</td>\n      <td>233.583</td>\n      <td>33.0</td>\n      <td>15.0</td>\n      <td>28.0</td>\n      <td>7' 10\"</td>\n      <td>227.250</td>\n      <td>29.0</td>\n      <td>16.0</td>\n    </tr>\n    <tr>\n      <th>3</th>\n      <td>Francesco Molinari</td>\n      <td>19.0</td>\n      <td>47.22</td>\n      <td>51.0</td>\n      <td>108.0</td>\n      <td>19.0</td>\n      <td>95.51</td>\n      <td>178.0</td>\n      <td>170.0</td>\n      <td>19.0</td>\n      <td>...</td>\n      <td>19.0</td>\n      <td>8' 4\"</td>\n      <td>324.333</td>\n      <td>39.0</td>\n      <td>129.0</td>\n      <td>19.0</td>\n      <td>9' 3\"</td>\n      <td>166.833</td>\n      <td>18.0</td>\n      <td>117.0</td>\n    </tr>\n    <tr>\n      <th>4</th>\n      <td>Wyndham Clark</td>\n      <td>43.0</td>\n      <td>47.22</td>\n      <td>119.0</td>\n      <td>252.0</td>\n      <td>47.0</td>\n      <td>98.18</td>\n      <td>439.0</td>\n      <td>431.0</td>\n      <td>43.0</td>\n      <td>...</td>\n      <td>47.0</td>\n      <td>8' 8\"</td>\n      <td>700.167</td>\n      <td>81.0</td>\n      <td>167.0</td>\n      <td>43.0</td>\n      <td>9' 10\"</td>\n      <td>539.583</td>\n      <td>55.0</td>\n      <td>149.0</td>\n    </tr>\n    <tr>\n      <th>...</th>\n      <td>...</td>\n      <td>...</td>\n      <td>...</td>\n      <td>...</td>\n      <td>...</td>\n      <td>...</td>\n      <td>...</td>\n      <td>...</td>\n      <td>...</td>\n      <td>...</td>\n      <td>...</td>\n      <td>...</td>\n      <td>...</td>\n      <td>...</td>\n      <td>...</td>\n      <td>...</td>\n      <td>...</td>\n      <td>...</td>\n      <td>...</td>\n      <td>...</td>\n      <td>...</td>\n    </tr>\n    <tr>\n      <th>966</th>\n      <td>Rahil Gangjee</td>\n      <td>0.0</td>\n      <td>0.00</td>\n      <td>0.0</td>\n      <td>0.0</td>\n      <td>0.0</td>\n      <td>0.00</td>\n      <td>0.0</td>\n      <td>0.0</td>\n      <td>0.0</td>\n      <td>...</td>\n      <td>0.0</td>\n      <td>0</td>\n      <td>0.000</td>\n      <td>0.0</td>\n      <td>0.0</td>\n      <td>0.0</td>\n      <td>0</td>\n      <td>0.000</td>\n      <td>0.0</td>\n      <td>0.0</td>\n    </tr>\n    <tr>\n      <th>967</th>\n      <td>Kim Leun-Kwang</td>\n      <td>0.0</td>\n      <td>0.00</td>\n      <td>0.0</td>\n      <td>0.0</td>\n      <td>0.0</td>\n      <td>0.00</td>\n      <td>0.0</td>\n      <td>0.0</td>\n      <td>0.0</td>\n      <td>...</td>\n      <td>0.0</td>\n      <td>0</td>\n      <td>0.000</td>\n      <td>0.0</td>\n      <td>0.0</td>\n      <td>0.0</td>\n      <td>0</td>\n      <td>0.000</td>\n      <td>0.0</td>\n      <td>0.0</td>\n    </tr>\n    <tr>\n      <th>968</th>\n      <td>Dawson Armstrong</td>\n      <td>0.0</td>\n      <td>0.00</td>\n      <td>0.0</td>\n      <td>0.0</td>\n      <td>0.0</td>\n      <td>0.00</td>\n      <td>0.0</td>\n      <td>0.0</td>\n      <td>0.0</td>\n      <td>...</td>\n      <td>0.0</td>\n      <td>0</td>\n      <td>0.000</td>\n      <td>0.0</td>\n      <td>0.0</td>\n      <td>0.0</td>\n      <td>0</td>\n      <td>0.000</td>\n      <td>0.0</td>\n      <td>0.0</td>\n    </tr>\n    <tr>\n      <th>969</th>\n      <td>Kevin Lucas</td>\n      <td>0.0</td>\n      <td>0.00</td>\n      <td>0.0</td>\n      <td>0.0</td>\n      <td>0.0</td>\n      <td>0.00</td>\n      <td>0.0</td>\n      <td>0.0</td>\n      <td>0.0</td>\n      <td>...</td>\n      <td>0.0</td>\n      <td>0</td>\n      <td>0.000</td>\n      <td>0.0</td>\n      <td>0.0</td>\n      <td>0.0</td>\n      <td>0</td>\n      <td>0.000</td>\n      <td>0.0</td>\n      <td>0.0</td>\n    </tr>\n    <tr>\n      <th>970</th>\n      <td>Alistair Docherty</td>\n      <td>0.0</td>\n      <td>0.00</td>\n      <td>0.0</td>\n      <td>0.0</td>\n      <td>0.0</td>\n      <td>0.00</td>\n      <td>0.0</td>\n      <td>0.0</td>\n      <td>0.0</td>\n      <td>...</td>\n      <td>0.0</td>\n      <td>0</td>\n      <td>0.000</td>\n      <td>0.0</td>\n      <td>0.0</td>\n      <td>0.0</td>\n      <td>0</td>\n      <td>0.000</td>\n      <td>0.0</td>\n      <td>0.0</td>\n    </tr>\n  </tbody>\n</table>\n<p>971 rows × 1540 columns</p>\n</div>"
     },
     "metadata": {},
     "execution_count": 11
    }
   ],
   "source": [
    "data"
   ]
  },
  {
   "cell_type": "code",
   "execution_count": 12,
   "metadata": {},
   "outputs": [],
   "source": [
    "data.to_csv('fulldata20200622_filled.csv')"
   ]
  },
  {
   "cell_type": "code",
   "execution_count": 15,
   "metadata": {},
   "outputs": [
    {
     "output_type": "execute_result",
     "data": {
      "text/plain": "    Position                     Name + ID               Name        ID  \\\n0          G       Rory McIlroy (14662969)       Rory McIlroy  14662969   \n1          G  Bryson DeChambeau (14662970)  Bryson DeChambeau  14662970   \n2          G      Justin Thomas (14662971)      Justin Thomas  14662971   \n3          G       Webb Simpson (14662972)       Webb Simpson  14662972   \n4          G           Jon Rahm (14662973)           Jon Rahm  14662973   \n..       ...                           ...                ...       ...   \n149        G      Seung-Yul Noh (14663118)      Seung-Yul Noh  14663118   \n150        G        Scott Brown (14663119)        Scott Brown  14663119   \n151        G     Patton Kizzire (14663120)     Patton Kizzire  14663120   \n152        G        Peter Kuest (14663121)        Peter Kuest  14663121   \n153        G        Roger Sloan (14663122)        Roger Sloan  14663122   \n\n    Roster Position  Salary               Game Info TeamAbbrev  \\\n0                 G   11200  Travelers Championship       Golf   \n1                 G   11000  Travelers Championship       Golf   \n2                 G   10800  Travelers Championship       Golf   \n3                 G   10500  Travelers Championship       Golf   \n4                 G   10200  Travelers Championship       Golf   \n..              ...     ...                     ...        ...   \n149               G    6000  Travelers Championship       Golf   \n150               G    6000  Travelers Championship       Golf   \n151               G    6000  Travelers Championship       Golf   \n152               G    6000  Travelers Championship       Golf   \n153               G    6000  Travelers Championship       Golf   \n\n     AvgPointsPerGame  \n0               96.19  \n1               81.83  \n2               89.46  \n3               95.88  \n4               89.06  \n..                ...  \n149             29.75  \n150             44.71  \n151             42.46  \n152              0.00  \n153             38.61  \n\n[154 rows x 9 columns]",
      "text/html": "<div>\n<style scoped>\n    .dataframe tbody tr th:only-of-type {\n        vertical-align: middle;\n    }\n\n    .dataframe tbody tr th {\n        vertical-align: top;\n    }\n\n    .dataframe thead th {\n        text-align: right;\n    }\n</style>\n<table border=\"1\" class=\"dataframe\">\n  <thead>\n    <tr style=\"text-align: right;\">\n      <th></th>\n      <th>Position</th>\n      <th>Name + ID</th>\n      <th>Name</th>\n      <th>ID</th>\n      <th>Roster Position</th>\n      <th>Salary</th>\n      <th>Game Info</th>\n      <th>TeamAbbrev</th>\n      <th>AvgPointsPerGame</th>\n    </tr>\n  </thead>\n  <tbody>\n    <tr>\n      <th>0</th>\n      <td>G</td>\n      <td>Rory McIlroy (14662969)</td>\n      <td>Rory McIlroy</td>\n      <td>14662969</td>\n      <td>G</td>\n      <td>11200</td>\n      <td>Travelers Championship</td>\n      <td>Golf</td>\n      <td>96.19</td>\n    </tr>\n    <tr>\n      <th>1</th>\n      <td>G</td>\n      <td>Bryson DeChambeau (14662970)</td>\n      <td>Bryson DeChambeau</td>\n      <td>14662970</td>\n      <td>G</td>\n      <td>11000</td>\n      <td>Travelers Championship</td>\n      <td>Golf</td>\n      <td>81.83</td>\n    </tr>\n    <tr>\n      <th>2</th>\n      <td>G</td>\n      <td>Justin Thomas (14662971)</td>\n      <td>Justin Thomas</td>\n      <td>14662971</td>\n      <td>G</td>\n      <td>10800</td>\n      <td>Travelers Championship</td>\n      <td>Golf</td>\n      <td>89.46</td>\n    </tr>\n    <tr>\n      <th>3</th>\n      <td>G</td>\n      <td>Webb Simpson (14662972)</td>\n      <td>Webb Simpson</td>\n      <td>14662972</td>\n      <td>G</td>\n      <td>10500</td>\n      <td>Travelers Championship</td>\n      <td>Golf</td>\n      <td>95.88</td>\n    </tr>\n    <tr>\n      <th>4</th>\n      <td>G</td>\n      <td>Jon Rahm (14662973)</td>\n      <td>Jon Rahm</td>\n      <td>14662973</td>\n      <td>G</td>\n      <td>10200</td>\n      <td>Travelers Championship</td>\n      <td>Golf</td>\n      <td>89.06</td>\n    </tr>\n    <tr>\n      <th>...</th>\n      <td>...</td>\n      <td>...</td>\n      <td>...</td>\n      <td>...</td>\n      <td>...</td>\n      <td>...</td>\n      <td>...</td>\n      <td>...</td>\n      <td>...</td>\n    </tr>\n    <tr>\n      <th>149</th>\n      <td>G</td>\n      <td>Seung-Yul Noh (14663118)</td>\n      <td>Seung-Yul Noh</td>\n      <td>14663118</td>\n      <td>G</td>\n      <td>6000</td>\n      <td>Travelers Championship</td>\n      <td>Golf</td>\n      <td>29.75</td>\n    </tr>\n    <tr>\n      <th>150</th>\n      <td>G</td>\n      <td>Scott Brown (14663119)</td>\n      <td>Scott Brown</td>\n      <td>14663119</td>\n      <td>G</td>\n      <td>6000</td>\n      <td>Travelers Championship</td>\n      <td>Golf</td>\n      <td>44.71</td>\n    </tr>\n    <tr>\n      <th>151</th>\n      <td>G</td>\n      <td>Patton Kizzire (14663120)</td>\n      <td>Patton Kizzire</td>\n      <td>14663120</td>\n      <td>G</td>\n      <td>6000</td>\n      <td>Travelers Championship</td>\n      <td>Golf</td>\n      <td>42.46</td>\n    </tr>\n    <tr>\n      <th>152</th>\n      <td>G</td>\n      <td>Peter Kuest (14663121)</td>\n      <td>Peter Kuest</td>\n      <td>14663121</td>\n      <td>G</td>\n      <td>6000</td>\n      <td>Travelers Championship</td>\n      <td>Golf</td>\n      <td>0.00</td>\n    </tr>\n    <tr>\n      <th>153</th>\n      <td>G</td>\n      <td>Roger Sloan (14663122)</td>\n      <td>Roger Sloan</td>\n      <td>14663122</td>\n      <td>G</td>\n      <td>6000</td>\n      <td>Travelers Championship</td>\n      <td>Golf</td>\n      <td>38.61</td>\n    </tr>\n  </tbody>\n</table>\n<p>154 rows × 9 columns</p>\n</div>"
     },
     "metadata": {},
     "execution_count": 15
    }
   ],
   "source": [
    "salaries = pd.read_csv('DKSalaries_Travlers.csv')\n",
    "salaries"
   ]
  },
  {
   "cell_type": "code",
   "execution_count": null,
   "metadata": {},
   "outputs": [],
   "source": [
    "salaries.rename(columns= )"
   ]
  },
  {
   "cell_type": "code",
   "execution_count": 8,
   "metadata": {},
   "outputs": [
    {
     "output_type": "stream",
     "name": "stdout",
     "text": "<class 'pandas.core.frame.DataFrame'>\nRangeIndex: 222 entries, 0 to 221\nData columns (total 81 columns):\n #   Column                                             Non-Null Count  Dtype  \n---  ------                                             --------------  -----  \n 0   player                                             222 non-null    object \n 1   Putting from 5-10'-%                               222 non-null    float64\n 2   Putting Average-AVG                                222 non-null    float64\n 3   3-Putts per Round-AVG                              222 non-null    float64\n 4   SG: Putting-AVERAGE                                222 non-null    float64\n 5   Average Putting Distance - GIR 1 Putts-AVG         222 non-null    object \n 6   Overall Putting Average-AVG                        222 non-null    float64\n 7   Birdie or Better Conversion Percentage-%           222 non-null    float64\n 8   Average Distance of Birdie putts made-AVG          222 non-null    object \n 9   3-Putt Avoidance-%                                 222 non-null    float64\n 10  2-Putts per Round-AVG                              222 non-null    float64\n 11  One-Putt Percentage-%                              222 non-null    float64\n 12  Going for the Green - Hit Green Pct-%              222 non-null    float64\n 13  Going for the Green - Birdie or Better-%           222 non-null    float64\n 14  Birdie or Better Percentage - Right Rough-%        222 non-null    float64\n 15  Birdie or Better Percentage - Fairway-%            222 non-null    float64\n 16  Fairway Proximity-AVG                              222 non-null    object \n 17  SG: Approach the Green-AVERAGE                     222 non-null    float64\n 18  GIR Percentage - 100+ yards-%                      222 non-null    float64\n 19  Average Approach Shot Distance-AVG                 222 non-null    float64\n 20  Going for the Green-%                              222 non-null    float64\n 21  GIR Pct - Fairway Bunker-%                         222 non-null    float64\n 22  Greens in Regulation Percentage-%                  222 non-null    float64\n 23  Greens in Regulation Percentage-RELATIVE/PAR       222 non-null    float64\n 24  GIR Percentage from Fairway-%                      222 non-null    float64\n 25  Greens or Fringe in Regulation-%                   222 non-null    float64\n 26  Par Breakers-%                                     222 non-null    float64\n 27  SG: Total-AVERAGE                                  222 non-null    float64\n 28  SG: Total-TOTAL SG:T                               222 non-null    float64\n 29  SG: Total-TOTAL SG:T2G                             222 non-null    float64\n 30  SG: Total-TOTAL SG:P                               222 non-null    float64\n 31  Bogey Average-AVERAGE BOGEYS PER ROUND             222 non-null    float64\n 32  Scoring Average Before Cut-AVG                     222 non-null    float64\n 33  Round 3 Scoring Average-AVG                        222 non-null    float64\n 34  Birdie or Better Percentage-%                      222 non-null    float64\n 35  Birdie to Bogey Ratio-BIRDIE TO BOGEY RATIO        222 non-null    float64\n 36  Scoring Average (Actual)-AVG                       222 non-null    float64\n 37  Par 3 Scoring Average-AVG                          222 non-null    float64\n 38  Round 2 Scoring Average-AVG                        222 non-null    float64\n 39  Birdie Average-AVG                                 222 non-null    float64\n 40  Bounce Back-%                                      222 non-null    float64\n 41  Fairway Bunker Tendency-%                          222 non-null    float64\n 42  Right Tendency-%                                   222 non-null    float64\n 43  SG: Tee-to-Green-AVERAGE                           222 non-null    float64\n 44  SG: Tee-to-Green-SG:OTT                            222 non-null    float64\n 45  SG: Tee-to-Green-SG:APR                            222 non-null    float64\n 46  SG: Tee-to-Green-SG:ARG                            222 non-null    float64\n 47  SG: Off-the-Tee-AVERAGE                            222 non-null    float64\n 48  Left Rough Tendency-%                              222 non-null    float64\n 49  Hit Fairway Percentage-%                           222 non-null    float64\n 50  Hit Fairway Percentage-RELATIVE TO PAR             222 non-null    float64\n 51  Driving Distance - All Drives-ALL DRIVES           222 non-null    float64\n 52  Right Rough Tendency-%                             222 non-null    float64\n 53  Ball Striking-VALUE                                222 non-null    int64  \n 54  Ball Striking-TOTAL DRV RANK                       222 non-null    int64  \n 55  Ball Striking-GIR RANK                             222 non-null    int64  \n 56  Left Tendency-%                                    222 non-null    float64\n 57  Rough Tendency-%                                   222 non-null    float64\n 58  Total Driving-ACCURACY RANK                        222 non-null    int64  \n 59  Distance from Center of Fairway-AVG                222 non-null    object \n 60  SG: Around-the-Green-AVERAGE                       222 non-null    float64\n 61  Sand Save Percentage-%                             222 non-null    float64\n 62  Sand Saves from 20-30 yards-%                      222 non-null    float64\n 63  Scrambling from < 10 yards-%                       222 non-null    float64\n 64  Scrambling from the Rough-%                        222 non-null    float64\n 65  Scrambling from > 30 yards-%                       222 non-null    float64\n 66  Scrambling from the Fringe-%                       222 non-null    float64\n 67  Scrambling 10-20 yds (RTP Score)-AVG RTP           222 non-null    float64\n 68  Sand Saves from 10-20 yards-%                      222 non-null    float64\n 69  Scrambling from 10-20 yards-%                      222 non-null    float64\n 70  Scrambling Rough (RTP Score)-AVG RTP               222 non-null    float64\n 71  Scrambling from Other Locations-%                  222 non-null    float64\n 72  Scrambling from 20-30 yards-%                      222 non-null    float64\n 73  Proximity to Hole from < 10 yards-SCRAMBLING RANK  222 non-null    int64  \n 74  Scrambling from the Sand-ROUNDS                    222 non-null    int64  \n 75  Scrambling from the Sand-%                         222 non-null    float64\n 76  Scrambling Fringe (RTP Score)-AVG RTP              222 non-null    object \n 77  Scrambling Fringe (RTP Score)-TOTAL RTP            222 non-null    object \n 78  Scrambling-%                                       222 non-null    float64\n 79  Scrambling-PAR OR BETTER                           222 non-null    int64  \n 80  Scrambling-MISSED GIR                              222 non-null    int64  \ndtypes: float64(66), int64(8), object(7)\nmemory usage: 140.6+ KB\n"
    }
   ],
   "source": [
    "salary_data = pd.join(data, salaries, on  )"
   ]
  },
  {
   "cell_type": "code",
   "execution_count": null,
   "metadata": {},
   "outputs": [],
   "source": []
  }
 ],
 "metadata": {
  "language_info": {
   "codemirror_mode": {
    "name": "ipython",
    "version": 3
   },
   "file_extension": ".py",
   "mimetype": "text/x-python",
   "name": "python",
   "nbconvert_exporter": "python",
   "pygments_lexer": "ipython3",
   "version": "3.7.7-final"
  },
  "orig_nbformat": 2,
  "kernelspec": {
   "name": "python37764bitscrawlconda7160cfcfc2114dd48f1ecc907ae40611",
   "display_name": "Python 3.7.7 64-bit ('scrawl': conda)"
  }
 },
 "nbformat": 4,
 "nbformat_minor": 2
}
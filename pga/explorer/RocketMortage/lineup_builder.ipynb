{
 "cells": [
  {
   "cell_type": "code",
   "execution_count": 2,
   "metadata": {},
   "outputs": [],
   "source": [
    "import pandas as pd\n",
    "import numpy as np\n",
    "from matplotlib import pyplot as plt\n",
    "from scipy.optimize import minimize\n",
    "import pulp\n",
    "from pydfs_lineup_optimizer import get_optimizer, Site, Sport"
   ]
  },
  {
   "cell_type": "markdown",
   "metadata": {},
   "source": [
    "50% ARG 25% APG 15% PUTT 5% TTG 5% OTT"
   ]
  },
  {
   "cell_type": "code",
   "execution_count": 3,
   "metadata": {
    "tags": []
   },
   "outputs": [
    {
     "output_type": "stream",
     "name": "stdout",
     "text": "1. G     Tyrrell Hatton                0.755   10700.0$  \n 2. G     Hideki Matsuyama              0.455   10200.0$  \n 3. G     Peter Uihlein                 0.321   7000.0$   \n 4. G     Cameron Tringale              0.249   6600.0$   \n 5. G     Tony Finau                    0.479   9300.0$   \n 6. G     Aaron Baddeley                0.305   6200.0$   \n\nFantasy Points 2.56\nSalary 50000.00\n\n[Tyrrell Hatton G (Golf), Hideki Matsuyama G (Golf), Peter Uihlein G (Golf), Cameron Tringale G (Golf), Tony Finau G (Golf), Aaron Baddeley G (Golf)]\n2.564\n50000.0\n"
    }
   ],
   "source": [
    "optimizer = get_optimizer(Site.DRAFTKINGS, Sport.GOLF)\n",
    "optimizer.load_players_from_csv(\"DKSalaries_RM_SG.csv\")\n",
    "for lineup in optimizer.optimize(n=1):\n",
    "    print(lineup)\n",
    "    print(lineup.players) # list of players\n",
    "    print(lineup.fantasy_points_projection)\n",
    "    print(lineup.salary_costs)"
   ]
  },
  {
   "cell_type": "code",
   "execution_count": null,
   "metadata": {},
   "outputs": [],
   "source": []
  }
 ],
 "metadata": {
  "language_info": {
   "codemirror_mode": {
    "name": "ipython",
    "version": 3
   },
   "file_extension": ".py",
   "mimetype": "text/x-python",
   "name": "python",
   "nbconvert_exporter": "python",
   "pygments_lexer": "ipython3",
   "version": "3.7.7-final"
  },
  "orig_nbformat": 2,
  "kernelspec": {
   "name": "python3",
   "display_name": "Python 3"
  }
 },
 "nbformat": 4,
 "nbformat_minor": 2
}
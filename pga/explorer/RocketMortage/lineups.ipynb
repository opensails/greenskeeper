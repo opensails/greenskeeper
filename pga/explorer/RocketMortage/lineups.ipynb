{
 "cells": [
  {
   "cell_type": "code",
   "execution_count": 3,
   "metadata": {},
   "outputs": [],
   "source": [
    "import pandas as pd\n",
    "import numpy as np\n",
    "from matplotlib import pyplot as plt\n",
    "from scipy.optimize import minimize\n",
    "import pulp\n",
    "from pydfs_lineup_optimizer import get_optimizer, Site, Sport"
   ]
  },
  {
   "cell_type": "code",
   "execution_count": 6,
   "metadata": {},
   "outputs": [],
   "source": [
    "class Lineups():\n",
    "    def __init__(self):\n",
    "\n",
    "        self.data = pd.read_csv('all_strokes_gained.csv')\n",
    "        self.salaries = pd.read_csv('DKSalaries_RM.csv')\n",
    "        self.topdogs = pd.read_csv('topdogs.csv')\n",
    "        self.darkhorse = pd.read_csv('darkhorses.csv')\n",
    "\n",
    "        self.sg_putting = self.data['SG: Putting-AVERAGE']\n",
    "        self.sg_around = self.data['SG: Around-the-Green-AVERAGE']\n",
    "        self.sg_approach = self.data['SG: Approach the Green-AVERAGE']\n",
    "        self.sg_ttg = self.data['SG: Tee-to-Green-AVERAGE']\n",
    "        self.sg_ott = self.data['SG: Off-the-Tee-AVERAGE']\n",
    "    \n",
    "    def score_player(self, Wputting, Waround, Wapproach, Wttg, Wott, version=''):\n",
    "\n",
    "        #self.salaries['Avg Points Per Game'] = \n",
    "\n",
    "        self.salaries['AvgPointsPerGame'] = (self.sg_putting * Wputting) + (self.sg_around * Waround) + (self.sg_approach * Wapproach) + (self.sg_ttg * Wttg) + (self.sg_ott * Wott)\n",
    "\n",
    "        self.salaries.fillna(0, inplace=True)\n",
    "\n",
    "        #print(self.salaries)\n",
    "\n",
    "        print(f'SG: Putting-AVERAGE {Wputting}% || SG: Approach the Green-AVERAGE {Waround}% || SG: Tee-to-Green-AVERAGE {Wapproach}% || SG: Off-the-Tee-AVERAGE {Wttg}% || SG: Around-the-Green-AVERAGE{Wott}%')\n",
    "\n",
    "        self.file = self.salaries.to_csv(f'draftkings_{version}.csv')\n",
    "\n",
    "        self.file_name = self.file\n",
    "\n",
    "\n",
    "    def top_dogs(self, Wputting, Waround, Wapproach, Wttg, Wott, version=''):\n",
    "\n",
    "        self.topdogs['AvgPointsPerGame'] = (self.sg_putting * Wputting) + (self.sg_around * Waround) + (self.sg_approach * Wapproach) + (self.sg_ttg * Wttg) + (self.sg_ott * Wott)\n",
    "\n",
    "        self.topdogs.fillna(0, inplace=True)\n",
    "\n",
    "        #print(self.salaries)\n",
    "\n",
    "        print(f'SG: Putting-AVERAGE {Wputting}% || SG: Approach the Green-AVERAGE {Waround}% || SG: Tee-to-Green-AVERAGE {Wapproach}% || SG: Off-the-Tee-AVERAGE {Wttg}% || SG: Around-the-Green-AVERAGE{Wott}%')\n",
    "\n",
    "        self.csv_file = self.topdogs.to_csv(f'topdog_{version}.csv')\n",
    "\n",
    "    \n",
    "\n",
    "    def dark_horse(self, Wputting, Waround, Wapproach, Wttg, Wott, version=''):\n",
    "\n",
    "        self.darkhorse['AvgPointsPerGame'] = (self.sg_putting * Wputting) + (self.sg_around * Waround) + (self.sg_approach * Wapproach) + (self.sg_ttg * Wttg) + (self.sg_ott * Wott)\n",
    "\n",
    "        self.darkhorse.fillna(0, inplace=True)\n",
    "\n",
    "        #print(self.salaries)\n",
    "\n",
    "        print(f'SG: Putting-AVERAGE {Wputting}% || SG: Approach the Green-AVERAGE {Waround}% || SG: Tee-to-Green-AVERAGE {Wapproach}% || SG: Off-the-Tee-AVERAGE {Wttg}% || SG: Around-the-Green-AVERAGE{Wott}%')\n",
    "\n",
    "        self.csv_file = self.darkhorse.to_csv(f'darkhorse_{version}.csv')\n",
    "\n",
    "\n",
    "\n",
    "\n",
    "\n",
    "    def optimize(self):\n",
    "        optimizer = get_optimizer(Site.DRAFTKINGS, Sport.GOLF)\n",
    "        optimizer.load_players_from_csv(f'{self.file_name}')\n",
    "        for lineup in optimizer.optimize(n=1):\n",
    "            print(lineup)\n",
    "            print(lineup.players) # list of players\n",
    "            print(lineup.fantasy_points_projection)\n",
    "            print(lineup.salary_costs)\n"
   ]
  },
  {
   "cell_type": "code",
   "execution_count": 7,
   "metadata": {
    "tags": []
   },
   "outputs": [
    {
     "output_type": "stream",
     "name": "stdout",
     "text": "SG: Putting-AVERAGE 0.25% || SG: Approach the Green-AVERAGE 0.5% || SG: Tee-to-Green-AVERAGE 0.1% || SG: Off-the-Tee-AVERAGE 0.1% || SG: Around-the-Green-AVERAGE0.05%\n"
    },
    {
     "output_type": "error",
     "ename": "FileNotFoundError",
     "evalue": "[Errno 2] No such file or directory: 'None'",
     "traceback": [
      "\u001b[0;31m---------------------------------------------------------------------------\u001b[0m",
      "\u001b[0;31mFileNotFoundError\u001b[0m                         Traceback (most recent call last)",
      "\u001b[0;32m<ipython-input-7-480d4c582359>\u001b[0m in \u001b[0;36m<module>\u001b[0;34m\u001b[0m\n\u001b[1;32m      1\u001b[0m \u001b[0mlineup1\u001b[0m \u001b[0;34m=\u001b[0m \u001b[0mLineups\u001b[0m\u001b[0;34m(\u001b[0m\u001b[0;34m)\u001b[0m\u001b[0;34m\u001b[0m\u001b[0;34m\u001b[0m\u001b[0m\n\u001b[1;32m      2\u001b[0m \u001b[0mlineup1\u001b[0m\u001b[0;34m.\u001b[0m\u001b[0mscore_player\u001b[0m\u001b[0;34m(\u001b[0m\u001b[0;36m.25\u001b[0m\u001b[0;34m,\u001b[0m \u001b[0;36m.50\u001b[0m\u001b[0;34m,\u001b[0m \u001b[0;36m.10\u001b[0m\u001b[0;34m,\u001b[0m \u001b[0;36m.10\u001b[0m\u001b[0;34m,\u001b[0m \u001b[0;36m.05\u001b[0m\u001b[0;34m,\u001b[0m \u001b[0mversion\u001b[0m\u001b[0;34m=\u001b[0m\u001b[0;34m'one'\u001b[0m\u001b[0;34m)\u001b[0m\u001b[0;34m\u001b[0m\u001b[0;34m\u001b[0m\u001b[0m\n\u001b[0;32m----> 3\u001b[0;31m \u001b[0mlineup1\u001b[0m\u001b[0;34m.\u001b[0m\u001b[0moptimize\u001b[0m\u001b[0;34m(\u001b[0m\u001b[0;34m)\u001b[0m\u001b[0;34m\u001b[0m\u001b[0;34m\u001b[0m\u001b[0m\n\u001b[0m",
      "\u001b[0;32m<ipython-input-6-9eb25e505c30>\u001b[0m in \u001b[0;36moptimize\u001b[0;34m(self)\u001b[0m\n\u001b[1;32m     62\u001b[0m     \u001b[0;32mdef\u001b[0m \u001b[0moptimize\u001b[0m\u001b[0;34m(\u001b[0m\u001b[0mself\u001b[0m\u001b[0;34m)\u001b[0m\u001b[0;34m:\u001b[0m\u001b[0;34m\u001b[0m\u001b[0;34m\u001b[0m\u001b[0m\n\u001b[1;32m     63\u001b[0m         \u001b[0moptimizer\u001b[0m \u001b[0;34m=\u001b[0m \u001b[0mget_optimizer\u001b[0m\u001b[0;34m(\u001b[0m\u001b[0mSite\u001b[0m\u001b[0;34m.\u001b[0m\u001b[0mDRAFTKINGS\u001b[0m\u001b[0;34m,\u001b[0m \u001b[0mSport\u001b[0m\u001b[0;34m.\u001b[0m\u001b[0mGOLF\u001b[0m\u001b[0;34m)\u001b[0m\u001b[0;34m\u001b[0m\u001b[0;34m\u001b[0m\u001b[0m\n\u001b[0;32m---> 64\u001b[0;31m         \u001b[0moptimizer\u001b[0m\u001b[0;34m.\u001b[0m\u001b[0mload_players_from_csv\u001b[0m\u001b[0;34m(\u001b[0m\u001b[0;34mf'{self.file_name}'\u001b[0m\u001b[0;34m)\u001b[0m\u001b[0;34m\u001b[0m\u001b[0;34m\u001b[0m\u001b[0m\n\u001b[0m\u001b[1;32m     65\u001b[0m         \u001b[0;32mfor\u001b[0m \u001b[0mlineup\u001b[0m \u001b[0;32min\u001b[0m \u001b[0moptimizer\u001b[0m\u001b[0;34m.\u001b[0m\u001b[0moptimize\u001b[0m\u001b[0;34m(\u001b[0m\u001b[0mn\u001b[0m\u001b[0;34m=\u001b[0m\u001b[0;36m1\u001b[0m\u001b[0;34m)\u001b[0m\u001b[0;34m:\u001b[0m\u001b[0;34m\u001b[0m\u001b[0;34m\u001b[0m\u001b[0m\n\u001b[1;32m     66\u001b[0m             \u001b[0mprint\u001b[0m\u001b[0;34m(\u001b[0m\u001b[0mlineup\u001b[0m\u001b[0;34m)\u001b[0m\u001b[0;34m\u001b[0m\u001b[0;34m\u001b[0m\u001b[0m\n",
      "\u001b[0;32m~/miniconda3/envs/work/lib/python3.7/site-packages/pydfs_lineup_optimizer/lineup_optimizer.py\u001b[0m in \u001b[0;36mload_players_from_csv\u001b[0;34m(self, filename)\u001b[0m\n\u001b[1;32m    129\u001b[0m         \u001b[0;32mif\u001b[0m \u001b[0;32mnot\u001b[0m \u001b[0mcsv_importer\u001b[0m\u001b[0;34m:\u001b[0m\u001b[0;34m\u001b[0m\u001b[0;34m\u001b[0m\u001b[0m\n\u001b[1;32m    130\u001b[0m             \u001b[0mcsv_importer\u001b[0m \u001b[0;34m=\u001b[0m \u001b[0mself\u001b[0m\u001b[0;34m.\u001b[0m\u001b[0m_settings\u001b[0m\u001b[0;34m.\u001b[0m\u001b[0mcsv_importer\u001b[0m\u001b[0;34m\u001b[0m\u001b[0;34m\u001b[0m\u001b[0m\n\u001b[0;32m--> 131\u001b[0;31m         \u001b[0mself\u001b[0m\u001b[0;34m.\u001b[0m\u001b[0m_players\u001b[0m \u001b[0;34m=\u001b[0m \u001b[0mcsv_importer\u001b[0m\u001b[0;34m(\u001b[0m\u001b[0mfilename\u001b[0m\u001b[0;34m)\u001b[0m\u001b[0;34m.\u001b[0m\u001b[0mimport_players\u001b[0m\u001b[0;34m(\u001b[0m\u001b[0;34m)\u001b[0m\u001b[0;34m\u001b[0m\u001b[0;34m\u001b[0m\u001b[0m\n\u001b[0m\u001b[1;32m    132\u001b[0m \u001b[0;34m\u001b[0m\u001b[0m\n\u001b[1;32m    133\u001b[0m     \u001b[0;32mdef\u001b[0m \u001b[0mload_lineups_from_csv\u001b[0m\u001b[0;34m(\u001b[0m\u001b[0mself\u001b[0m\u001b[0;34m,\u001b[0m \u001b[0mfilename\u001b[0m\u001b[0;34m:\u001b[0m \u001b[0mstr\u001b[0m\u001b[0;34m)\u001b[0m \u001b[0;34m->\u001b[0m \u001b[0mList\u001b[0m\u001b[0;34m[\u001b[0m\u001b[0mLineup\u001b[0m\u001b[0;34m]\u001b[0m\u001b[0;34m:\u001b[0m\u001b[0;34m\u001b[0m\u001b[0;34m\u001b[0m\u001b[0m\n",
      "\u001b[0;32m~/miniconda3/envs/work/lib/python3.7/site-packages/pydfs_lineup_optimizer/sites/draftkings/classic/importer.py\u001b[0m in \u001b[0;36mimport_players\u001b[0;34m(self)\u001b[0m\n\u001b[1;32m     55\u001b[0m \u001b[0;34m\u001b[0m\u001b[0m\n\u001b[1;32m     56\u001b[0m     \u001b[0;32mdef\u001b[0m \u001b[0mimport_players\u001b[0m\u001b[0;34m(\u001b[0m\u001b[0mself\u001b[0m\u001b[0;34m)\u001b[0m\u001b[0;34m:\u001b[0m\u001b[0;34m\u001b[0m\u001b[0;34m\u001b[0m\u001b[0m\n\u001b[0;32m---> 57\u001b[0;31m         \u001b[0;32mwith\u001b[0m \u001b[0mopen\u001b[0m\u001b[0;34m(\u001b[0m\u001b[0mself\u001b[0m\u001b[0;34m.\u001b[0m\u001b[0mfilename\u001b[0m\u001b[0;34m,\u001b[0m \u001b[0;34m'r'\u001b[0m\u001b[0;34m)\u001b[0m \u001b[0;32mas\u001b[0m \u001b[0mcsv_file\u001b[0m\u001b[0;34m:\u001b[0m\u001b[0;34m\u001b[0m\u001b[0;34m\u001b[0m\u001b[0m\n\u001b[0m\u001b[1;32m     58\u001b[0m             \u001b[0mstart_line\u001b[0m \u001b[0;34m=\u001b[0m \u001b[0;36m0\u001b[0m  \u001b[0;31m# Find line with 'TeamAbbrev', that's where players data starts\u001b[0m\u001b[0;34m\u001b[0m\u001b[0;34m\u001b[0m\u001b[0m\n\u001b[1;32m     59\u001b[0m             \u001b[0;32mwhile\u001b[0m \u001b[0;32mTrue\u001b[0m\u001b[0;34m:\u001b[0m\u001b[0;34m\u001b[0m\u001b[0;34m\u001b[0m\u001b[0m\n",
      "\u001b[0;31mFileNotFoundError\u001b[0m: [Errno 2] No such file or directory: 'None'"
     ]
    }
   ],
   "source": [
    "lineup1 = Lineups()\n",
    "lineup1.score_player(.25, .50, .10, .10, .05, version='one')\n",
    "lineup1.optimize()"
   ]
  },
  {
   "cell_type": "code",
   "execution_count": 4,
   "metadata": {
    "tags": []
   },
   "outputs": [
    {
     "output_type": "stream",
     "name": "stdout",
     "text": "SG: Putting-AVERAGE 0.4% || SG: Approach the Green-AVERAGE 0.3% || SG: Tee-to-Green-AVERAGE           0.1% || SG: Off-the-Tee-AVERAGE 0.05% || SG: Around-the-Green-AVERAGE0.15%\n 1. G     Mark Anderson                 0.323   6100.0$   \n 2. G     Jason Day                     0.817   8600.0$   \n 3. G     Tyrrell Hatton                0.563   10700.0$  \n 4. G     Branden Grace                 0.367   7700.0$   \n 5. G     Bubba Watson                  0.517   9200.0$   \n 6. G     Troy Merritt                  0.297   6400.0$   \n\nFantasy Points 2.88\nSalary 48700.00\n\n[Mark Anderson G (Golf), Jason Day G (Golf), Tyrrell Hatton G (Golf), Branden Grace G (Golf), Bubba Watson G (Golf), Troy Merritt G (Golf)]\n2.884\n48700.0\n"
    }
   ],
   "source": [
    "lineup2 = Lineups()\n",
    "lineup2.score_player(.40, .30, .10, .05, .15, version='two')\n",
    "lineup2.optimize(filename='draftkings_two.csv')"
   ]
  },
  {
   "cell_type": "code",
   "execution_count": 6,
   "metadata": {
    "tags": []
   },
   "outputs": [
    {
     "output_type": "stream",
     "name": "stdout",
     "text": "SG: Putting-AVERAGE 0.5% || SG: Approach the Green-AVERAGE 0.05% || SG: Tee-to-Green-AVERAGE           0.05% || SG: Off-the-Tee-AVERAGE 0.25% || SG: Around-the-Green-AVERAGE0.15%\n 1. G     Jason Day                     1.167   8600.0$   \n 2. G     Tyrrell Hatton                0.71    10700.0$  \n 3. G     Erik Van                      0.471   8000.0$   \n 4. G     Henrik Norlander              0.489   6500.0$   \n 5. G     Bubba Watson                  0.855   9200.0$   \n 6. G     Troy Merritt                  0.503   6400.0$   \n\nFantasy Points 4.20\nSalary 49400.00\n\n[Jason Day G (Golf), Tyrrell Hatton G (Golf), Erik Van G (Golf), Henrik Norlander G (Golf), Bubba Watson G (Golf), Troy Merritt G (Golf)]\n4.195\n49400.0\n"
    }
   ],
   "source": [
    "lineup3 = Lineups()\n",
    "lineup3.score_player(.50, .05, .05, .25, .15, version='three')\n",
    "lineup3.optimize(filename='draftkings_three.csv')"
   ]
  },
  {
   "cell_type": "code",
   "execution_count": 7,
   "metadata": {
    "tags": []
   },
   "outputs": [
    {
     "output_type": "stream",
     "name": "stdout",
     "text": "SG: Putting-AVERAGE 0.2% || SG: Approach the Green-AVERAGE 0.55% || SG: Tee-to-Green-AVERAGE           0.12% || SG: Off-the-Tee-AVERAGE 0.08% || SG: Around-the-Green-AVERAGE0.05%\n 1. G     Webb Simpson                  0.483   11000.0$  \n 2. G     Zac Blair                     0.383   6200.0$   \n 3. G     Mark Anderson                 0.486   6100.0$   \n 4. G     Jason Day                     0.73    8600.0$   \n 5. G     Tyrrell Hatton                0.465   10700.0$  \n 6. G     C.T. Pan                      0.38    6400.0$   \n\nFantasy Points 2.93\nSalary 49000.00\n\n[Webb Simpson G (Golf), Zac Blair G (Golf), Mark Anderson G (Golf), Jason Day G (Golf), Tyrrell Hatton G (Golf), C.T. Pan G (Golf)]\n2.927\n49000.0\n"
    }
   ],
   "source": [
    "lineup4 = Lineups()\n",
    "lineup4.score_player(.20, .55, .12, .08, .05, version='four')\n",
    "lineup4.optimize(filename='draftkings_four.csv')"
   ]
  },
  {
   "cell_type": "code",
   "execution_count": 8,
   "metadata": {
    "tags": []
   },
   "outputs": [
    {
     "output_type": "stream",
     "name": "stdout",
     "text": "SG: Putting-AVERAGE 0.2% || SG: Approach the Green-AVERAGE 0.2% || SG: Tee-to-Green-AVERAGE           0.2% || SG: Off-the-Tee-AVERAGE 0.2% || SG: Around-the-Green-AVERAGE0.2%\n 1. G     Webb Simpson                  0.614   11000.0$  \n 2. G     Zac Blair                     0.551   6200.0$   \n 3. G     Mark Anderson                 0.548   6100.0$   \n 4. G     Jason Day                     0.996   8600.0$   \n 5. G     Henrik Norlander              0.437   6500.0$   \n 6. G     Bubba Watson                  0.739   9200.0$   \n\nFantasy Points 3.88\nSalary 47600.00\n\n[Webb Simpson G (Golf), Zac Blair G (Golf), Mark Anderson G (Golf), Jason Day G (Golf), Henrik Norlander G (Golf), Bubba Watson G (Golf)]\n3.885\n47600.0\n"
    }
   ],
   "source": [
    "lineup5 = Lineups()\n",
    "lineup5.score_player(.20, .20, .20, .20, .20, version='five')\n",
    "lineup5.optimize(filename='draftkings_five.csv')"
   ]
  },
  {
   "cell_type": "code",
   "execution_count": 9,
   "metadata": {
    "tags": []
   },
   "outputs": [
    {
     "output_type": "stream",
     "name": "stdout",
     "text": "SG: Putting-AVERAGE 0.125% || SG: Approach the Green-AVERAGE 0.125% || SG: Tee-to-Green-AVERAGE           0.3% || SG: Off-the-Tee-AVERAGE 0.15% || SG: Around-the-Green-AVERAGE0.3%\n 1. G     Webb Simpson                  0.578   11000.0$  \n 2. G     Zac Blair                     0.605   6200.0$   \n 3. G     Scott Harrington              0.479   6100.0$   \n 4. G     Mark Anderson                 0.523   6100.0$   \n 5. G     Jason Day                     0.95    8600.0$   \n 6. G     Bubba Watson                  0.771   9200.0$   \n\nFantasy Points 3.91\nSalary 47200.00\n\n[Webb Simpson G (Golf), Zac Blair G (Golf), Scott Harrington G (Golf), Mark Anderson G (Golf), Jason Day G (Golf), Bubba Watson G (Golf)]\n3.906\n47200.0\n"
    }
   ],
   "source": [
    "lineup6 = Lineups()\n",
    "lineup6.score_player(.125, .125, .30, .15, .30, version='six')\n",
    "lineup6.optimize(filename='draftkings_six.csv')"
   ]
  },
  {
   "cell_type": "code",
   "execution_count": 10,
   "metadata": {
    "tags": []
   },
   "outputs": [
    {
     "output_type": "stream",
     "name": "stdout",
     "text": "SG: Putting-AVERAGE 0.5% || SG: Approach the Green-AVERAGE 0.005% || SG: Tee-to-Green-AVERAGE           0.005% || SG: Off-the-Tee-AVERAGE 0.09% || SG: Around-the-Green-AVERAGE0.4%\n 1. G     Jason Day                     0.886   8600.0$   \n 2. G     Tyrrell Hatton                0.597   10700.0$  \n 3. G     Scott Stallings               0.439   7500.0$   \n 4. G     Henrik Norlander              0.451   6500.0$   \n 5. G     Bubba Watson                  0.844   9200.0$   \n 6. G     Troy Merritt                  0.571   6400.0$   \n\nFantasy Points 3.79\nSalary 48900.00\n\n[Jason Day G (Golf), Tyrrell Hatton G (Golf), Scott Stallings G (Golf), Henrik Norlander G (Golf), Bubba Watson G (Golf), Troy Merritt G (Golf)]\n3.789\n48900.0\n"
    }
   ],
   "source": [
    "lineup7 = Lineups()\n",
    "lineup7.score_player(.50, .005, .005, .09, .40, version='seven')\n",
    "lineup7.optimize(filename='draftkings_seven.csv')"
   ]
  },
  {
   "cell_type": "code",
   "execution_count": 19,
   "metadata": {
    "tags": []
   },
   "outputs": [
    {
     "output_type": "stream",
     "name": "stdout",
     "text": "SG: Putting-AVERAGE 0.25% || SG: Approach the Green-AVERAGE 0.5% || SG: Tee-to-Green-AVERAGE 0.1% || SG: Off-the-Tee-AVERAGE 0.1% || SG: Around-the-Green-AVERAGE0.05%\n 1. G     Scottie Scheffler             0.16    9000.0$   \n 2. G     Jason Day                     0.782   8600.0$   \n 3. G     Brandt Snedeker               0.282   7900.0$   \n 4. G     Kevin Kisner                  0.201   7700.0$   \n 5. G     Maverick McNealy              0.462   7600.0$   \n 6. G     Bubba Watson                  0.412   9200.0$   \n\nFantasy Points 2.30\nSalary 50000.00\n\n[Scottie Scheffler G (Golf), Jason Day G (Golf), Brandt Snedeker G (Golf), Kevin Kisner G (Golf), Maverick McNealy G (Golf), Bubba Watson G (Golf)]\n2.299\n50000.0\n---------------------------------------\nSG: Putting-AVERAGE 0.25% || SG: Approach the Green-AVERAGE 0.5% || SG: Tee-to-Green-AVERAGE 0.1% || SG: Off-the-Tee-AVERAGE 0.1% || SG: Around-the-Green-AVERAGE0.05%\n 1. G     Christiaan Bezuidenhout       0.51    8300.0$   \n 2. G     George McNeill                0.474   6000.0$   \n 3. G     Joseph Bramlett               0.782   7500.0$   \n 4. G     Adam Hadwin                   0.506   8200.0$   \n 5. G     Tyler Duncan                  0.462   7000.0$   \n 6. G     Kevin Kisner                  0.412   7700.0$   \n\nFantasy Points 3.15\nSalary 44700.00\n\n[Christiaan Bezuidenhout G (Golf), George McNeill G (Golf), Joseph Bramlett G (Golf), Adam Hadwin G (Golf), Tyler Duncan G (Golf), Kevin Kisner G (Golf)]\n3.146\n44700.0\n"
    }
   ],
   "source": [
    "lineuptop = Lineups()\n",
    "lineuptop.top_dogs(.25, .50, .10, .10, .05, version='one')\n",
    "lineuptop.optimize(filename='topdog_one.csv')\n",
    "\n",
    "print('---------------------------------------')\n",
    "\n",
    "lineupdark = Lineups()\n",
    "lineupdark.dark_horse(.25, .50, .10, .10, .05, version='one')\n",
    "lineupdark.optimize(filename='darkhorse_one.csv')"
   ]
  },
  {
   "cell_type": "markdown",
   "metadata": {},
   "source": [
    "def score_player(self, Wputting, Waround, Wapproach, Wttg, Wott, version=‘’):"
   ]
  }
 ],
 "metadata": {
  "language_info": {
   "codemirror_mode": {
    "name": "ipython",
    "version": 3
   },
   "file_extension": ".py",
   "mimetype": "text/x-python",
   "name": "python",
   "nbconvert_exporter": "python",
   "pygments_lexer": "ipython3",
   "version": "3.7.7-final"
  },
  "orig_nbformat": 2,
  "kernelspec": {
   "name": "python37764bitworkconda0054b8d5b99a48f4b3e781953a021d77",
   "display_name": "Python 3.7.7 64-bit ('work': conda)"
  }
 },
 "nbformat": 4,
 "nbformat_minor": 2
}